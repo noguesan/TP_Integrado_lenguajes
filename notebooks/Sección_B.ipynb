{
 "cells": [
  {
   "cell_type": "markdown",
   "id": "f10f4df6",
   "metadata": {},
   "source": [
    " Sección B: información a obtener: consultas al dataset principal \n"
   ]
  },
  {
   "cell_type": "markdown",
   "id": "f8672941",
   "metadata": {},
   "source": [
    "Tomando como fuente los datasets generados en la sección A y sus nuevas columnas:\n"
   ]
  },
  {
   "cell_type": "markdown",
   "id": "fda622ea",
   "metadata": {},
   "source": [
    "1. A partir de la información de cada año contenida en el dataset se debe informar, año tras año, el porcentaje de personas mayores a 6 años capaces e incapaces de leer y escribir.\n",
    "Importante: tomar la información del último trimestre de cada año."
   ]
  },
  {
   "cell_type": "markdown",
   "id": "4e7afc54",
   "metadata": {},
   "source": [
    "Tabla individual  \n",
    "ANO4 N (4) Año de relevamiento (4 dígitos)\n",
    "\n",
    "TRIMESTRE N (1) Ventana de observación  \n",
    "- = 1° trimestre  \n",
    "- = 2° trimestre  \n",
    "- = 3° trimestre  \n",
    "- = 4° trimestre  \n",
    "\n",
    "PONDERA N (6) Ponderación  \n",
    "\n",
    "CH05 date Fecha de nacimiento\n",
    "(día, mes y año) --> ver como esta dado el dato\n",
    "\n",
    "CH06 N (2) ¿Cuántos años cumplidos tiene?\n",
    "\n",
    "CH09 N (1) ¿Sabe leer y escribir?\n",
    "1 = Sí\n",
    "2 = No\n",
    "3 = Menor de 2 años"
   ]
  },
  {
   "cell_type": "code",
   "execution_count": null,
   "id": "249ca0ff",
   "metadata": {},
   "outputs": [],
   "source": [
    "def filtrar_trimestre(filas, col_trim=1, trimestre = '4'):\n",
    "    \"\"\"Filtra las filas correspondientes al trimestre pasado por parametro como string (valor defecto '4')\"\"\"\n",
    "    return [fila for fila in filas if fila[col_trim] == trimestre]\n",
    "\n",
    "def agrupar_por_anio(filas, col_anio=0):\n",
    "    \"\"\"Agrupa las filas por año (usando índice de columna)\"\"\"\n",
    "    grupos = {}\n",
    "    for fila in filas:\n",
    "        anio = fila[col_anio]\n",
    "        if anio not in grupos:\n",
    "            grupos[anio] = []\n",
    "        grupos[anio].append(fila)\n",
    "    return grupos\n",
    "\n",
    "def suma_ponderada(filas, condicion, col_pondera=2):\n",
    "    \"\"\"Suma ponderada de las filas que cumplen cierta condición\"\"\"\n",
    "    return sum(float(f[col_pondera]) for f in filas if condicion(f))\n",
    "\n",
    "\n",
    "def analizar_alfabetismo_por_anio(filas, col_anio=0, col_trim=1, col_pondera=2, col_edad=3, col_lee=4):\n",
    "    \"\"\"Analiza el alfabetismo por año considerando personas mayores de 6 años\"\"\"\n",
    "    filas_filtradas = filtrar_trimestre(filas, col_trim)\n",
    "    datos_por_anio = agrupar_por_anio(filas_filtradas, col_anio)\n",
    "\n",
    "    for anio, filas_anio in datos_por_anio.items():\n",
    "        total_mayores_6 = suma_ponderada(filas_anio, lambda f: int(f[col_edad]) > 6, col_pondera)\n",
    "        saben_leer = suma_ponderada(filas_anio, lambda f: int(f[col_edad]) > 6 and f[col_lee] == '1', col_pondera)\n",
    "        no_saben_leer = suma_ponderada(filas_anio, lambda f: int(f[col_edad]) > 6 and f[col_lee] == '2', col_pondera)\n",
    "\n",
    "        porcentaje_si = (saben_leer / total_mayores_6) * 100\n",
    "        porcentaje_no = (no_saben_leer / total_mayores_6) * 100\n",
    "\n",
    "        print(f\"Año {anio}: {porcentaje_si:.2f}% saben leer y escribir, {porcentaje_no:.2f}% no saben.\")\n",
    "\n",
    "\n",
    "\n",
    "# analizar_alfabetismo_por_anio(filas_modificadas)"
   ]
  },
  {
   "cell_type": "markdown",
   "id": "f25ffd45",
   "metadata": {},
   "source": [
    "<span style=\"color:red;\"> el aviso \"Importante: tomar la información del último trimestre de cada año.\" Es solo para el punto 1 o para todos?.</span>"
   ]
  },
  {
   "cell_type": "markdown",
   "id": "eea491dd",
   "metadata": {},
   "source": [
    "2. A partir de un año y trimestre elegido por el usuario informar el porcentaje de personas no nacidas en Argentina que hayan cursado un nivel universitario o superior."
   ]
  },
  {
   "cell_type": "markdown",
   "id": "4b75ec33",
   "metadata": {},
   "source": [
    "Tabla individual  \n",
    "ANO4 N (4) Año de relevamiento (4 dígitos)\n",
    "\n",
    "TRIMESTRE N (1) Ventana de observación  \n",
    "- = 1° trimestre  \n",
    "- = 2° trimestre  \n",
    "- = 3° trimestre  \n",
    "- = 4° trimestre  \n",
    "\n",
    "PONDERA N (6) Ponderación  \n",
    "\n",
    "CH12 N (2) ¿Cuál es el nivel más alto que cursa o cursó?\n",
    "- 1 = Jardín/preescolar\n",
    "- 2 = Primario\n",
    "- 3 = EGB\n",
    "- 4 = Secundario\n",
    "- 5 = Polimodal\n",
    "- 6 = Terciario\n",
    "- 7 = Universitario\n",
    "- 8 = Posgrado universitario\n",
    "- 9 = Educación especial (discapacitado)\n",
    "\n",
    "CH15 N (1) ¿Dónde nació?\n",
    "1. En esta localidad\n",
    "2. En otra localidad de esta provincia\n",
    "3. En otra provincia (especificar)\n",
    "4. En un país limítrofe (especificar: Brasil, Bolivia, Chile, Paraguay, Uruguay)\n",
    "5. En otro país (especificar)\n",
    "9. Ns/Nr\n",
    "\n",
    "NIVEL_ED N (1) Nivel educativo\n",
    "- 1 = Primario incompleto (incluye educación especial)\n",
    "- 2 = Primario completo\n",
    "- 3 = Secundario incompleto\n",
    "- 4 = Secundario completo\n",
    "- 5 = Superior universitario incompleto\n",
    "- 6 = Superior universitario completo\n",
    "- 7 = Sin instrucción\n",
    "- 9 = Ns/Nr"
   ]
  },
  {
   "cell_type": "markdown",
   "id": "f7ef541d",
   "metadata": {},
   "source": [
    "<span style=\"color:red;\"> \n",
    "creo que para esta consulta deberia considerarse tambien una edad minima   \n",
    "\n",
    "el procentaje que me pide es respecto a la poblacion total de argentina o respecto a la poblacion total de no nacidos en argentina (hice el porcentaje respecto al total de no nacidos en argentina)\n",
    "</span>"
   ]
  },
  {
   "cell_type": "code",
   "execution_count": null,
   "id": "5a6e21f4",
   "metadata": {},
   "outputs": [],
   "source": [
    "def filtrar_anio(filas, col_anio=1, anio = '4'):\n",
    "    \"\"\"Filtra las filas correspondientes al trimestre pasado por parametro como string (valor defecto '4')\"\"\"\n",
    "    return [fila for fila in filas if fila[col_anio] == anio]\n",
    "\n",
    "def es_extranjero(valor_ch15):\n",
    "    \"\"\"Devuelve True si la persona nació fuera de Argentina\"\"\"\n",
    "    return valor_ch15 in ['4', '5']\n",
    "\n",
    "def es_universitario(valor_ch12):\n",
    "    \"\"\"Devuelve True si la persona cursó/cursa universidad o posgrado\"\"\"\n",
    "    return valor_ch12 in ['7', '8']"
   ]
  },
  {
   "cell_type": "code",
   "execution_count": null,
   "id": "42390324",
   "metadata": {},
   "outputs": [],
   "source": [
    "def analizar_universitarios_extranjeros(filas, anio, trimestre):\n",
    "    \"\"\"Calcula el porcentaje de personas no nacidas en Argentina con nivel universitario o superior\"\"\"\n",
    "    \n",
    "    filas_anio = filtrar_anio(filas, anio=anio)\n",
    "    filas_trim = filtrar_trimestre(filas_anio, trimestre=trimestre)\n",
    "    \n",
    "    total_ponderado_extranjeros = 0\n",
    "    total_ponderado_universitarios_extranjeros = 0\n",
    "\n",
    "    for fila in filas_trim:\n",
    "        ch15 = fila[5]  # lugar de nacimiento\n",
    "        ch12 = fila[4]  # nivel educativo\n",
    "        pondera = int(fila[3])  # ponderación\n",
    "\n",
    "        if es_extranjero(ch15):\n",
    "            total_ponderado_extranjeros += pondera\n",
    "            if es_universitario(ch12):\n",
    "                total_ponderado_universitarios_extranjeros += pondera\n",
    "\n",
    "    if total_ponderado_extranjeros == 0:\n",
    "        return 0  # evitar división por cero\n",
    "\n",
    "    porcentaje = (total_ponderado_universitarios_extranjeros / total_ponderado_extranjeros) * 100\n",
    "    return round(porcentaje, 2)"
   ]
  },
  {
   "cell_type": "markdown",
   "id": "1552b7bc",
   "metadata": {},
   "source": [
    "<span style=\"color:red;\"> \n",
    "en las preguntas que pide seleccionar algun dato ejemplo algun aglomerado. esta seleccion se hace por afuera de la funcion con un input y despues se ingresa a la funcion con esta valor de parametro o pongo el input directamente adentro de la funcion   \n",
    "\n",
    "por ejemplo en la pregunta 9 \"Pedir al usuario que seleccione un aglomerado y a partir de la información contenida retornar una tabla que contenga la cantidad de personas mayores de edad según su nivel de estudios alcanzados.\"\n",
    "\n",
    "Lo mejor es que el input() esté afuera de la función.  Esto te permite que la función sea reutilizable, testeable, y más limpia.\n",
    "</span>"
   ]
  },
  {
   "cell_type": "markdown",
   "id": "63062741",
   "metadata": {},
   "source": [
    "3. A partir de la información contenida en el dataset informar el año y trimestre donde\n",
    "hubo menor desocupación.\n"
   ]
  },
  {
   "cell_type": "code",
   "execution_count": null,
   "id": "6ecbf655",
   "metadata": {},
   "outputs": [],
   "source": []
  },
  {
   "cell_type": "markdown",
   "id": "c928fc58",
   "metadata": {},
   "source": [
    "4. Ranking de los 5 aglomerados con mayor porcentaje de hogares con dos o más\n",
    "ocupantes con estudios universitarios o superiores finalizados. Información obtenida\n",
    "a partir del par de archivos más recientes."
   ]
  },
  {
   "cell_type": "code",
   "execution_count": null,
   "id": "198d26d9",
   "metadata": {},
   "outputs": [],
   "source": []
  },
  {
   "cell_type": "markdown",
   "id": "80160c75",
   "metadata": {},
   "source": [
    "5. Informar para cada aglomerado el porcentaje de viviendas ocupadas por sus\n",
    "propietarios."
   ]
  },
  {
   "cell_type": "code",
   "execution_count": null,
   "id": "27f689bb",
   "metadata": {},
   "outputs": [],
   "source": []
  },
  {
   "cell_type": "markdown",
   "id": "6ffec453",
   "metadata": {},
   "source": [
    "6. Informar el aglomerado con mayor cantidad de viviendas con más de dos ocupantes\n",
    "y sin baño. Informar también la cantidad de ellas.\n"
   ]
  },
  {
   "cell_type": "code",
   "execution_count": null,
   "id": "c5cae207",
   "metadata": {},
   "outputs": [],
   "source": []
  },
  {
   "cell_type": "markdown",
   "id": "04a859ca",
   "metadata": {},
   "source": [
    "7. Informar para cada aglomerado el porcentaje de personas que hayan cursado al\n",
    "menos en nivel universitario o superior.\n"
   ]
  },
  {
   "cell_type": "code",
   "execution_count": null,
   "id": "02182578",
   "metadata": {},
   "outputs": [],
   "source": []
  },
  {
   "cell_type": "markdown",
   "id": "ba304dc4",
   "metadata": {},
   "source": [
    "8. Informar las regiones en orden descendente según el porcentaje de inquilinos de\n",
    "cada una"
   ]
  },
  {
   "cell_type": "code",
   "execution_count": null,
   "id": "f544e833",
   "metadata": {},
   "outputs": [],
   "source": []
  },
  {
   "cell_type": "markdown",
   "id": "f21c7002",
   "metadata": {},
   "source": [
    "9. Pedir al usuario que seleccione un aglomerado y a partir de la información contenida\n",
    "retornar una tabla que contenga la cantidad de personas mayores de edad según su\n",
    "nivel de estudios alcanzados\n",
    "\n",
    "A modo de ejemplo:"
   ]
  },
  {
   "cell_type": "markdown",
   "id": "33420390",
   "metadata": {},
   "source": [
    "Nombre de Aglomerado\n",
    "\n",
    "\n"
   ]
  },
  {
   "cell_type": "code",
   "execution_count": null,
   "id": "1ac77178",
   "metadata": {},
   "outputs": [],
   "source": []
  },
  {
   "cell_type": "markdown",
   "id": "34528e72",
   "metadata": {},
   "source": [
    "10. Pedir al usuario que seleccione dos aglomerados y a partir de la información\n",
    "contenida retornar una tabla que contenga el porcentaje de personas mayores de\n",
    "edad con secundario incompleto.\n"
   ]
  },
  {
   "cell_type": "code",
   "execution_count": null,
   "id": "dac01deb",
   "metadata": {},
   "outputs": [],
   "source": []
  },
  {
   "cell_type": "markdown",
   "id": "77b3c18d",
   "metadata": {},
   "source": [
    "11. Pedir al usuario que seleccione un año, y busque en el último trimestre almacenado\n",
    "del mencionado año, el aglomerado con mayor porcentaje de viviendas de “Material\n",
    "precario” y el aglomerado con menor porcentaje de viviendas de “Material precario”."
   ]
  },
  {
   "cell_type": "code",
   "execution_count": null,
   "id": "31b868e9",
   "metadata": {},
   "outputs": [],
   "source": []
  },
  {
   "cell_type": "markdown",
   "id": "b39c1df6",
   "metadata": {},
   "source": [
    "12. A partir de la información del último trimestre almacenado en el sistema se debe\n",
    "retornar para cada aglomerado el porcentaje de jubilados que vivan en una vivienda\n",
    "con CONDICION_DE_HABITABILIDAD insuficiente"
   ]
  },
  {
   "cell_type": "code",
   "execution_count": null,
   "id": "e9d52edb",
   "metadata": {},
   "outputs": [],
   "source": []
  },
  {
   "cell_type": "markdown",
   "id": "f7fcebae",
   "metadata": {},
   "source": [
    "13. Solicitar un año al usuario y a partir de la información del último trimestre de dicho\n",
    "ejercicio informar la cantidad de personas que hayan cursado nivel universitario o\n",
    "superior y que vivan en una vivienda con CONDICION_DE_HABITABILIDAD\n",
    "insuficiente"
   ]
  },
  {
   "cell_type": "code",
   "execution_count": null,
   "id": "e97e9a2e",
   "metadata": {},
   "outputs": [],
   "source": []
  }
 ],
 "metadata": {
  "language_info": {
   "name": "python"
  }
 },
 "nbformat": 4,
 "nbformat_minor": 5
}
