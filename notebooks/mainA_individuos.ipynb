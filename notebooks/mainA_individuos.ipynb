{
 "cells": [
  {
   "cell_type": "markdown",
   "id": "3baac561",
   "metadata": {},
   "source": [
    "NOTEBOOK DE PROCESAMIENTO DE LOS ARCHIVOS usu_individual.txt "
   ]
  },
  {
   "cell_type": "markdown",
   "id": "986a727f",
   "metadata": {},
   "source": [
    "este archivo permite procesar de forma generica los archivos usu_individual.txt de forma que se pueda añadir de forma que se pueda tener n cantidad de archivos y funcione de forma generica "
   ]
  },
  {
   "cell_type": "code",
   "execution_count": 12,
   "id": "5b07fee8",
   "metadata": {},
   "outputs": [],
   "source": [
    "import sys \n",
    "sys.path.append(\"..\")\n",
    "from src.utils.funciones import unir_archivos\n",
    "import csv \n",
    "from src.utils.constantes import DATA_PROCESSED_PATH, DATA_CLEAN_PATH , DATA_RAW_PATH\n",
    "from src.utils.funciones import ch04_str, condicion_laboral, nivel_ed, universitario, unir_lineas\n",
    "from glob import glob "
   ]
  },
  {
   "cell_type": "markdown",
   "id": "4c192335",
   "metadata": {},
   "source": [
    "Luego de importar la funcion unir_archivos (encontrada en funciones.py), que permite unificar cualq archivo .txt del tipo usu_hogar o usu_individuos, se le pasa por parametro el tipo utilizado"
   ]
  },
  {
   "cell_type": "code",
   "execution_count": 13,
   "id": "6d8ae30f",
   "metadata": {},
   "outputs": [],
   "source": [
    "unir_archivos(\"usu_individual\")"
   ]
  },
  {
   "cell_type": "markdown",
   "id": "b1fe9d25",
   "metadata": {},
   "source": [
    "De esta forma se crea el archivo CSV que unifica todos los demas archivos.txt, sin repetir encabezados "
   ]
  },
  {
   "cell_type": "markdown",
   "id": "83294af4",
   "metadata": {},
   "source": [
    "En esta seccion se cumplira con las siguientes consignas de la seccion A, y se traduciran los datos numericos a datos legibles\n",
    " "
   ]
  },
  {
   "cell_type": "code",
   "execution_count": 14,
   "id": "3fc6b174",
   "metadata": {},
   "outputs": [],
   "source": [
    "archivo_clean = DATA_CLEAN_PATH / \"usu_clean_individual.csv\"\n",
    "archivo_processed = DATA_PROCESSED_PATH / \"usu_individual.csv\"\n",
    "\n",
    "def new_fila (fila):\n",
    "    new_fila = fila\n",
    "    ch04_str(new_fila,fila)\n",
    "    nivel_ed(new_fila,fila)\n",
    "    condicion_laboral(new_fila,fila)\n",
    "    universitario(new_fila,fila)\n",
    "    return new_fila\n",
    "\n",
    "with archivo_clean.open(\"w\",newline=\"\", encoding=\"utf-8\") as f:\n",
    "    with archivo_processed.open(\"r\",encoding=\"utf-8\") as p:\n",
    "        lector = csv.reader(p,delimiter=\";\")\n",
    "        encabezado = next(lector) + [\"CH04_str\", \"NIVEL_ED_str\",\"CONDICION_LABORAL\",\"UNIVERSITARIO\"]\n",
    "        escritor = csv.writer(f)\n",
    "        escritor.writerow(encabezado)\n",
    "        for fila in lector:\n",
    "            new_fila_1 = new_fila(fila) \n",
    "            escritor.writerow(new_fila_1)        \n",
    "\n",
    "\n",
    "    \n",
    "\n",
    " "
   ]
  }
 ],
 "metadata": {
  "kernelspec": {
   "display_name": "Python 3",
   "language": "python",
   "name": "python3"
  },
  "language_info": {
   "codemirror_mode": {
    "name": "ipython",
    "version": 3
   },
   "file_extension": ".py",
   "mimetype": "text/x-python",
   "name": "python",
   "nbconvert_exporter": "python",
   "pygments_lexer": "ipython3",
   "version": "3.13.2"
  }
 },
 "nbformat": 4,
 "nbformat_minor": 5
}
