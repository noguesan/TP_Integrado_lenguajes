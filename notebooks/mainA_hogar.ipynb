{
 "cells": [
  {
   "cell_type": "markdown",
   "id": "6728576d",
   "metadata": {},
   "source": []
  },
  {
   "cell_type": "code",
   "execution_count": null,
   "id": "ddf96f3e",
   "metadata": {},
   "outputs": [],
   "source": [
    "import sys \n",
    "sys.path.append(\"..\")\n",
    "from src.utils.funciones import unir_archivos\n",
    "import csv \n",
    "from src.utils.constantes import DATA_PROCESSED_PATH, DATA_CLEAN_PATH , DATA_RAW_PATH\n",
    "from src.utils.funciones import TIPO_HOGAR, MATERIAL_TECHUMBRE, DENSIDAD_HOGAR, CONDICION_DE_HABITABILIDAD\n",
    "from glob import glob "
   ]
  },
  {
   "cell_type": "code",
   "execution_count": 2,
   "id": "443381e0",
   "metadata": {},
   "outputs": [],
   "source": [
    "unir_archivos('usu_hogar')"
   ]
  },
  {
   "cell_type": "markdown",
   "id": "35d7b622",
   "metadata": {},
   "source": []
  },
  {
   "cell_type": "code",
   "execution_count": null,
   "id": "4fe2a395",
   "metadata": {},
   "outputs": [],
   "source": [
    "archivo_clean = DATA_CLEAN_PATH / \"usu_clean_hogar.csv\"\n",
    "archivo_processed = DATA_PROCESSED_PATH / \"usu_hogar.csv\"\n",
    "\n",
    "\n",
    "\n",
    "def new_fila (fila):\n",
    "    new_fila_1 = fila.copy()\n",
    "    TIPO_HOGAR(new_fila_1,fila)\n",
    "    MATERIAL_TECHUMBRE(new_fila_1,fila)\n",
    "    DENSIDAD_HOGAR(new_fila_1,fila)\n",
    "    CONDICION_DE_HABITABILIDAD(new_fila_1,fila)\n",
    "    return new_fila_1\n",
    "\n",
    "with archivo_clean.open(\"w\",newline=\"\", encoding=\"utf-8\") as f:\n",
    "    with archivo_processed.open(\"r\",encoding=\"utf-8\") as p:\n",
    "        lector = csv.reader(p,delimiter=\";\")\n",
    "        encabezado = next(lector) + [\"TIPO_HOGAR\", \"MATERIAL_TECHUMBRE\",\"DENSIDAD_HOGAR\",\"CONDICION_DE_HABITABILIDAD\"]\n",
    "        escritor = csv.writer(f)\n",
    "        escritor.writerow(encabezado)\n",
    "        for fila in lector:\n",
    "            new_fila_1 = new_fila(fila) \n",
    "            escritor.writerow(new_fila_1)    "
   ]
  }
 ],
 "metadata": {
  "kernelspec": {
   "display_name": "Python 3",
   "language": "python",
   "name": "python3"
  },
  "language_info": {
   "codemirror_mode": {
    "name": "ipython",
    "version": 3
   },
   "file_extension": ".py",
   "mimetype": "text/x-python",
   "name": "python",
   "nbconvert_exporter": "python",
   "pygments_lexer": "ipython3",
   "version": "3.13.2"
  }
 },
 "nbformat": 4,
 "nbformat_minor": 5
}
