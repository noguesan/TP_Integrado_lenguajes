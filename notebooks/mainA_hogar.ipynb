{
 "cells": [
  {
   "cell_type": "markdown",
   "id": "6728576d",
   "metadata": {},
   "source": []
  },
  {
   "cell_type": "code",
<<<<<<< HEAD
   "execution_count": 10,
=======
<<<<<<< HEAD
   "execution_count": 8,
   "id": "ddf96f3e",
=======
<<<<<<<< HEAD:notebooks/mainA_hogares.ipynb
   "execution_count": 54,
   "id": "39af3f26",
========
   "execution_count": null,
>>>>>>> 1c6d93ca538e1da5ceaad41b490346af5c381e96
   "id": "ddf96f3e",
>>>>>>>> 6e9893284635d9ddba710bc22eb5d30136b9920f:notebooks/mainA_hogar.ipynb
>>>>>>> 6e9893284635d9ddba710bc22eb5d30136b9920f
   "metadata": {},
   "outputs": [],
   "source": [
    "import sys \n",
    "sys.path.append(\"..\")\n",
    "from src.utils.funciones import unir_archivos\n",
    "import csv \n",
    "from src.utils.constantes import DATA_PROCESSED_PATH, DATA_CLEAN_PATH , DATA_RAW_PATH\n",
<<<<<<< HEAD
    "from src.utils.funciones import TIPO_HOGAR, MATERIAL_TECHUMBRE, DENSIDAD_HOGAR\n",
=======
<<<<<<<< HEAD:notebooks/mainA_hogares.ipynb
========
    "from src.utils.funciones import TIPO_HOGAR, MATERIAL_TECHUMBRE, DENSIDAD_HOGAR, CONDICION_DE_HABITABILIDAD\n",
>>>>>>>> 6e9893284635d9ddba710bc22eb5d30136b9920f:notebooks/mainA_hogar.ipynb
>>>>>>> 6e9893284635d9ddba710bc22eb5d30136b9920f
    "from glob import glob "
   ]
  },
  {
   "cell_type": "code",
<<<<<<< HEAD
   "execution_count": 11,
=======
<<<<<<< HEAD
   "execution_count": 9,
   "id": "443381e0",
=======
<<<<<<<< HEAD:notebooks/mainA_hogares.ipynb
   "execution_count": 48,
   "id": "652ea632",
========
   "execution_count": 2,
>>>>>>> 1c6d93ca538e1da5ceaad41b490346af5c381e96
   "id": "443381e0",
>>>>>>>> 6e9893284635d9ddba710bc22eb5d30136b9920f:notebooks/mainA_hogar.ipynb
>>>>>>> 6e9893284635d9ddba710bc22eb5d30136b9920f
   "metadata": {},
   "outputs": [],
   "source": [
    "unir_archivos('usu_hogar')"
   ]
  },
  {
   "cell_type": "markdown",
   "id": "35d7b622",
   "metadata": {},
   "source": []
  },
  {
   "cell_type": "code",
<<<<<<< HEAD
   "execution_count": 12,
=======
<<<<<<< HEAD
   "execution_count": 10,
>>>>>>> 1c6d93ca538e1da5ceaad41b490346af5c381e96
   "id": "4fe2a395",
   "metadata": {},
   "outputs": [],
   "source": [
=======
<<<<<<<< HEAD:notebooks/mainA_hogares.ipynb
   "execution_count": 52,
   "id": "521280fb",
========
   "execution_count": null,
   "id": "4fe2a395",
>>>>>>>> 6e9893284635d9ddba710bc22eb5d30136b9920f:notebooks/mainA_hogar.ipynb
   "metadata": {},
   "outputs": [],
   "source": [
    "from src.utils import funciones "
   ]
  },
  {
   "cell_type": "code",
   "execution_count": 53,
   "id": "26af5635",
   "metadata": {},
   "outputs": [
    {
     "ename": "AttributeError",
     "evalue": "module 'src.utils.funciones' has no attribute 'algo'",
     "output_type": "error",
     "traceback": [
      "\u001b[31m---------------------------------------------------------------------------\u001b[39m",
      "\u001b[31mAttributeError\u001b[39m                            Traceback (most recent call last)",
      "\u001b[36mCell\u001b[39m\u001b[36m \u001b[39m\u001b[32mIn[53]\u001b[39m\u001b[32m, line 47\u001b[39m\n\u001b[32m     45\u001b[39m     new_fila_1 = new_fila(fila) \n\u001b[32m     46\u001b[39m     escritor.writerow(new_fila_1)    \n\u001b[32m---> \u001b[39m\u001b[32m47\u001b[39m \u001b[38;5;28mprint\u001b[39m(\u001b[43mfunciones\u001b[49m\u001b[43m.\u001b[49m\u001b[43malgo\u001b[49m(\u001b[32m2\u001b[39m))\n",
      "\u001b[31mAttributeError\u001b[39m: module 'src.utils.funciones' has no attribute 'algo'"
     ]
    }
   ],
   "source": [
>>>>>>> 6e9893284635d9ddba710bc22eb5d30136b9920f
    "archivo_clean = DATA_CLEAN_PATH / \"usu_clean_hogar.csv\"\n",
    "archivo_processed = DATA_PROCESSED_PATH / \"usu_hogar.csv\"\n",
    "\n",
    "\n",
<<<<<<< HEAD
=======
<<<<<<<< HEAD:notebooks/mainA_hogares.ipynb
    "def TIPO_HOGAR (new_fila,fila): \n",
    "    if fila[64] == \"1\":\n",
    "        new_fila.append(\"Unipersonal\")\n",
    "    elif fila[64] in [\"2\",\"3\",\"4\"]:\n",
    "        new_fila.append(\"Nuclear\")\n",
    "    else:\n",
    "        new_fila.append(\"Extendido\")\n",
    "\n",
    "def MATERIAL_TECHUMBRE (new_fila,fila): \n",
    "    if fila[3] == \"5\" or fila[3] == \"6\" or fila[3] == \"7\":\n",
    "        new_fila.append(\"Material precario\")\n",
    "    elif fila[3] in [\"1\",\"2\",\"3\",\"4\"]:\n",
    "        new_fila.append(\"Material durable\")\n",
    "    elif fila[3] == \"9\":\n",
    "        new_fila.append(\"No aplica\")\n",
    "\n",
    "def DENSIDAD_HOGAR (new_fila,fila): \n",
    "    if fila[4] < \"1\":\n",
    "        new_fila.append(\"Bajo\")\n",
    "    elif fila[4] in [\"1\",\"2\"]:\n",
    "        new_fila.append(\"Medio\")\n",
    "    elif fila[4] > \"2\":\n",
    "        new_fila.append(\"Alto\")\n",
    "\n",
    "\n",
========
>>>>>>>> 6e9893284635d9ddba710bc22eb5d30136b9920f:notebooks/mainA_hogar.ipynb
>>>>>>> 6e9893284635d9ddba710bc22eb5d30136b9920f
    "\n",
    "def new_fila (fila):\n",
    "    new_fila_1 = fila.copy()\n",
    "    TIPO_HOGAR(new_fila_1,fila)\n",
    "    MATERIAL_TECHUMBRE(new_fila_1,fila)\n",
    "    DENSIDAD_HOGAR(new_fila_1,fila)\n",
<<<<<<< HEAD
=======
<<<<<<<< HEAD:notebooks/mainA_hogares.ipynb
========
    "    CONDICION_DE_HABITABILIDAD(new_fila_1,fila)\n",
>>>>>>>> 6e9893284635d9ddba710bc22eb5d30136b9920f:notebooks/mainA_hogar.ipynb
>>>>>>> 6e9893284635d9ddba710bc22eb5d30136b9920f
    "    return new_fila_1\n",
    "\n",
    "with archivo_clean.open(\"w\",newline=\"\", encoding=\"utf-8\") as f:\n",
    "    with archivo_processed.open(\"r\",encoding=\"utf-8\") as p:\n",
    "        lector = csv.reader(p,delimiter=\";\")\n",
    "        encabezado = next(lector) + [\"TIPO_HOGAR\", \"MATERIAL_TECHUMBRE\",\"DENSIDAD_HOGAR\",\"CONDICION_DE_HABITABILIDAD\"]\n",
    "        escritor = csv.writer(f)\n",
    "        escritor.writerow(encabezado)\n",
    "        for fila in lector:\n",
    "            new_fila_1 = new_fila(fila) \n",
<<<<<<< HEAD
    "            escritor.writerow(new_fila_1)    "
=======
    "            escritor.writerow(new_fila_1)    \n",
    "        print(funciones.algo(2))"
>>>>>>> 6e9893284635d9ddba710bc22eb5d30136b9920f
   ]
  }
 ],
 "metadata": {
  "kernelspec": {
   "display_name": "Python 3",
   "language": "python",
   "name": "python3"
  },
  "language_info": {
   "codemirror_mode": {
    "name": "ipython",
    "version": 3
   },
   "file_extension": ".py",
   "mimetype": "text/x-python",
   "name": "python",
   "nbconvert_exporter": "python",
   "pygments_lexer": "ipython3",
   "version": "3.13.2"
  }
 },
 "nbformat": 4,
 "nbformat_minor": 5
}
