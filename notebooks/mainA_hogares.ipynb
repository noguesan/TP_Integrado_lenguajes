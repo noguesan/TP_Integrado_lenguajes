{
 "cells": [
  {
   "cell_type": "markdown",
   "id": "601042d6",
   "metadata": {},
   "source": [
    "NOTEBOOK DE PROCESAMIENTO DE LOS ARCHIVOS usu_hogares.txt "
   ]
  },
  {
   "cell_type": "markdown",
   "id": "c843ed7b",
   "metadata": {},
   "source": [
    "este archivo permite procesar de forma generica los archivos usu_hogar.txt de forma que se pueda añadir de forma que se pueda tener n cantidad de archivos y funcione de forma generica "
   ]
  },
  {
   "cell_type": "code",
   "execution_count": 25,
   "id": "39af3f26",
   "metadata": {},
   "outputs": [],
   "source": [
    "import sys \n",
    "sys.path.append(\"..\")\n",
    "from src.utils.funciones import unir_archivos\n",
    "import csv \n",
    "from src.utils.constantes import DATA_PROCESSED_PATH, DATA_CLEAN_PATH , DATA_RAW_PATH\n",
    "from src.utils.funciones import TIPO_HOGAR,MATERIAL_TECHUMBRE,DENSIDAD_HOGAR,CONDICION_DE_HABITABILIDAD\n",
    "from glob import glob "
   ]
  },
  {
   "cell_type": "markdown",
   "id": "631f290b",
   "metadata": {},
   "source": [
    "Luego de importar la funcion unir_archivos (encontrada en funciones.py), que permite unificar cualq archivo .txt del tipo usu_hogar o usu_individuos, se le pasa por parametro el tipo utilizado"
   ]
  },
  {
   "cell_type": "code",
   "execution_count": 26,
   "id": "652ea632",
   "metadata": {},
   "outputs": [],
   "source": [
    "unir_archivos('usu_hogar')"
   ]
  },
  {
   "cell_type": "markdown",
   "id": "8794a651",
   "metadata": {},
   "source": [
    "De esta forma se crea el archivo CSV que unifica todos los demas archivos.txt, sin repetir encabezados "
   ]
  },
  {
   "cell_type": "markdown",
   "id": "504f61ac",
   "metadata": {},
   "source": [
    "En esta seccion se cumplira con las siguientes consignas de la seccion A, y se traduciran los datos numericos a datos legibles\n",
    " "
   ]
  },
  {
   "cell_type": "code",
   "execution_count": 27,
   "id": "26af5635",
   "metadata": {},
   "outputs": [],
   "source": [
    "archivo_clean = DATA_CLEAN_PATH / \"usu_clean_hogar.csv\"\n",
    "archivo_processed = DATA_PROCESSED_PATH / \"usu_hogar.csv\"\n",
    "archivo_csv = open(archivo_processed, encoding='utf-8')\n",
    "\n",
    "def new_fila (fila):\n",
    "    new_fila = fila\n",
    "    TIPO_HOGAR(new_fila,fila)\n",
    "    MATERIAL_TECHUMBRE(new_fila,fila)\n",
    "    DENSIDAD_HOGAR(new_fila,fila)\n",
    "    CONDICION_DE_HABITABILIDAD(new_fila,fila)\n",
    "    return new_fila\n",
    "\n",
    "with archivo_clean.open(\"w\",newline=\"\", encoding=\"utf-8\") as f:\n",
    "    with archivo_processed.open(\"r\",encoding=\"utf-8\") as p:\n",
    "        lector = csv.reader(p,delimiter=\";\")\n",
    "        encabezado = next(lector) + [\"TIPO_HOGAR\", \"MATERIAL_TECHUMBRE\",\"DENSIDAD_HOGAR\",\"CONDICION_DE_HABITABILIDAD\"]\n",
    "        escritor = csv.writer(f)\n",
    "        escritor.writerow(encabezado)\n",
    "        for fila in lector:\n",
    "            new_fila_1 = new_fila(fila) \n",
    "            escritor.writerow(new_fila_1)    "
   ]
  }
 ],
 "metadata": {
  "kernelspec": {
   "display_name": "Python 3",
   "language": "python",
   "name": "python3"
  },
  "language_info": {
   "codemirror_mode": {
    "name": "ipython",
    "version": 3
   },
   "file_extension": ".py",
   "mimetype": "text/x-python",
   "name": "python",
   "nbconvert_exporter": "python",
   "pygments_lexer": "ipython3",
   "version": "3.13.2"
  }
 },
 "nbformat": 4,
 "nbformat_minor": 5
}
