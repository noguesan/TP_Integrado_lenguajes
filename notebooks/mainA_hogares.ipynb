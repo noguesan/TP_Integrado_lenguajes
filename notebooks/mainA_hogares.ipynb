{
 "cells": [
  {
   "cell_type": "markdown",
   "id": "601042d6",
   "metadata": {},
   "source": [
    "NOTEBOOK DE PROCESAMIENTO DE LOS ARCHIVOS usu_hogares.txt "
   ]
  },
  {
   "cell_type": "markdown",
   "id": "c843ed7b",
   "metadata": {},
   "source": [
    "este archivo permite procesar de forma generica los archivos usu_hogar.txt de forma que se pueda añadir de forma que se pueda tener n cantidad de archivos y funcione de forma generica "
   ]
  },
  {
   "cell_type": "code",
   "execution_count": 2,
   "id": "39af3f26",
   "metadata": {},
   "outputs": [],
   "source": [
    "import sys \n",
    "sys.path.append(\"..\")\n",
    "from src.utils.funciones import unir_archivos"
   ]
  },
  {
   "cell_type": "code",
   "execution_count": 3,
   "id": "652ea632",
   "metadata": {},
   "outputs": [],
   "source": [
    "unir_archivos('usu_hogar')"
   ]
  }
 ],
 "metadata": {
  "kernelspec": {
   "display_name": "Python 3",
   "language": "python",
   "name": "python3"
  },
  "language_info": {
   "codemirror_mode": {
    "name": "ipython",
    "version": 3
   },
   "file_extension": ".py",
   "mimetype": "text/x-python",
   "name": "python",
   "nbconvert_exporter": "python",
   "pygments_lexer": "ipython3",
   "version": "3.13.2"
  }
 },
 "nbformat": 4,
 "nbformat_minor": 5
}
