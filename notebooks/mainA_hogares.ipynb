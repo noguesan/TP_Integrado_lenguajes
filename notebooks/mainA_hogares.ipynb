{
 "cells": [
  {
   "cell_type": "markdown",
   "id": "c4b268ef",
   "metadata": {},
   "source": [
    "NOTEBOOK DE PROCESAMIENTO DE LOS ARCHIVOS usu_individual.txt "
   ]
  },
  {
   "cell_type": "markdown",
   "id": "e7a5e15b",
   "metadata": {},
   "source": [
    "este archivo permite procesar de forma generica los archivos usu_hogar.txt de forma que se pueda añadir de forma que se pueda tener n cantidad de archivos y funcione de forma generica "
   ]
  },
  {
   "cell_type": "code",
   "execution_count": 24,
   "id": "1cf41ce0",
   "metadata": {},
   "outputs": [],
   "source": [
    "import sys \n",
    "sys.path.append(\"..\")\n",
    "from src.utils.funciones import unir_archivos\n",
    "import csv \n",
    "from src.utils.constantes import DATA_PROCESSED_PATH, DATA_CLEAN_PATH , DATA_RAW_PATH\n",
    "from src.procesamientos import phogares  \n",
    "from glob import glob "
   ]
  },
  {
   "cell_type": "markdown",
   "id": "d118d4f7",
   "metadata": {},
   "source": [
    "Luego de importar la funcion unir_archivos (encontrada en funciones.py), que permite unificar cualq archivo .txt del tipo usu_hogar o usu_individuos, se le pasa por parametro el tipo utilizado"
   ]
  },
  {
   "cell_type": "code",
   "execution_count": 25,
   "id": "056bb780",
   "metadata": {},
   "outputs": [],
   "source": [
    "unir_archivos('usu_hogar')"
   ]
  },
  {
   "cell_type": "markdown",
   "id": "53a61734",
   "metadata": {},
   "source": [
    "De esta forma se crea el archivo CSV que unifica todos los demas archivos.txt, sin repetir encabezados "
   ]
  },
  {
   "cell_type": "markdown",
   "id": "e740b9af",
   "metadata": {},
   "source": [
    "En esta seccion se cumplira con las siguientes consignas de la seccion A, y se traduciran los datos numericos a datos legibles\n",
    " "
   ]
  },
  {
   "cell_type": "markdown",
   "id": "ecff871d",
   "metadata": {},
   "source": [
    "FUNCIONES\n",
    "-"
   ]
  },
  {
   "cell_type": "code",
   "execution_count": 26,
   "id": "f226a044",
   "metadata": {},
   "outputs": [],
   "source": [
    "from src.procesamientos import phogares\n"
   ]
  },
  {
   "cell_type": "code",
   "execution_count": 27,
   "id": "77f5bd64",
   "metadata": {},
   "outputs": [
    {
     "ename": "AttributeError",
     "evalue": "module 'src.procesamientos.phogares' has no attribute 'MATERIAL_TECHUMBRE'",
     "output_type": "error",
     "traceback": [
      "\u001b[31m---------------------------------------------------------------------------\u001b[39m",
      "\u001b[31mAttributeError\u001b[39m                            Traceback (most recent call last)",
      "\u001b[36mCell\u001b[39m\u001b[36m \u001b[39m\u001b[32mIn[27]\u001b[39m\u001b[32m, line 19\u001b[39m\n\u001b[32m     17\u001b[39m escritor.writerow(encabezado)\n\u001b[32m     18\u001b[39m \u001b[38;5;28;01mfor\u001b[39;00m fila \u001b[38;5;129;01min\u001b[39;00m lector:\n\u001b[32m---> \u001b[39m\u001b[32m19\u001b[39m     new_fila_1 = \u001b[43mnew_fila\u001b[49m\u001b[43m(\u001b[49m\u001b[43mfila\u001b[49m\u001b[43m)\u001b[49m \n\u001b[32m     20\u001b[39m     escritor.writerow(new_fila_1)    \n",
      "\u001b[36mCell\u001b[39m\u001b[36m \u001b[39m\u001b[32mIn[27]\u001b[39m\u001b[32m, line 7\u001b[39m, in \u001b[36mnew_fila\u001b[39m\u001b[34m(fila)\u001b[39m\n\u001b[32m      5\u001b[39m new_fila = fila\n\u001b[32m      6\u001b[39m phogares.TIPO_HOGAR(new_fila,fila)\n\u001b[32m----> \u001b[39m\u001b[32m7\u001b[39m \u001b[43mphogares\u001b[49m\u001b[43m.\u001b[49m\u001b[43mMATERIAL_TECHUMBRE\u001b[49m(new_fila,fila)\n\u001b[32m      8\u001b[39m phogares.DENSIDAD_HOGAR(new_fila,fila)\n\u001b[32m      9\u001b[39m phogares.CONDICION_DE_HABITABILIDAD(new_fila,fila)\n",
      "\u001b[31mAttributeError\u001b[39m: module 'src.procesamientos.phogares' has no attribute 'MATERIAL_TECHUMBRE'"
     ]
    }
   ],
   "source": [
    "archivo_clean = DATA_CLEAN_PATH / \"usu_clean_hogar.csv\"\n",
    "archivo_processed = DATA_PROCESSED_PATH / \"usu_hogar.csv\"\n",
    "\n",
    "def new_fila (fila):\n",
    "    new_fila = fila\n",
    "    phogares.TIPO_HOGAR(new_fila,fila)\n",
    "    phogares.MATERIAL_TECHUMBRE(new_fila,fila)\n",
    "    phogares.DENSIDAD_HOGAR(new_fila,fila)\n",
    "    phogares.CONDICION_DE_HABITABILIDAD(new_fila,fila)\n",
    "    return new_fila\n",
    "\n",
    "with archivo_clean.open(\"w\",newline=\"\", encoding=\"utf-8\") as f:\n",
    "    with archivo_processed.open(\"r\",encoding=\"utf-8\") as p:\n",
    "        lector = csv.reader(p,delimiter=\";\")\n",
    "        encabezado = next(lector) + [\"TIPO_HOGAR\", \"MATERIAL_TECHUMBRE\",\"DENSIDAD_HOGAR\",\"CONDICION_DE_HABITABILIDAD\"]\n",
    "        escritor = csv.writer(f)\n",
    "        escritor.writerow(encabezado)\n",
    "        for fila in lector:\n",
    "            new_fila_1 = new_fila(fila) \n",
    "            escritor.writerow(new_fila_1)    \n",
    "\n"
   ]
  }
 ],
 "metadata": {
  "kernelspec": {
   "display_name": "Python 3",
   "language": "python",
   "name": "python3"
  },
  "language_info": {
   "codemirror_mode": {
    "name": "ipython",
    "version": 3
   },
   "file_extension": ".py",
   "mimetype": "text/x-python",
   "name": "python",
   "nbconvert_exporter": "python",
   "pygments_lexer": "ipython3",
   "version": "3.13.2"
  }
 },
 "nbformat": 4,
 "nbformat_minor": 5
}
