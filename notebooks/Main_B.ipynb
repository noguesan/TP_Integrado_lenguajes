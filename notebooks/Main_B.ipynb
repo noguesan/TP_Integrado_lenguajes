{
 "cells": [
  {
   "cell_type": "code",
   "execution_count": 2,
   "id": "80db1157",
   "metadata": {},
   "outputs": [],
   "source": [
    "import sys \n",
    "import csv\n",
    "sys.path.append(\"..\")\n",
    "from src.utils.constantes import DATA_CLEAN_PATH\n"
   ]
  },
  {
   "cell_type": "markdown",
   "id": "c0e52ea4",
   "metadata": {},
   "source": [
    "1- A partir de la información de cada año contenida en el dataset se debe informar, año tras año, el porcentaje de personas mayores a 6 años capaces e incapaces de leer y escribir.\n",
    "Importante: tomar la información del último trimestre de cada año."
   ]
  },
  {
   "cell_type": "markdown",
   "id": "2305e3e4",
   "metadata": {},
   "source": [
    "### Tabla individual  \n",
    "1- ANO4 N (4) Año de relevamiento (4 dígitos)\n",
    "\n",
    "2- TRIMESTRE N (1) Ventana de observación  \n",
    "- = 1° trimestre  \n",
    "- = 2° trimestre  \n",
    "- = 3° trimestre  \n",
    "- = 4° trimestre  \n",
    "\n",
    "9- PONDERA N (6) Ponderación  \n",
    "\n",
    "12- CH05 date Fecha de nacimiento\n",
    "(día, mes y año) --> ver como esta dado el dato\n",
    "\n",
    "13- CH06 N (2) ¿Cuántos años cumplidos tiene?\n",
    "\n",
    "16- CH09 N (1) ¿Sabe leer y escribir?\n",
    "1 = Sí\n",
    "2 = No\n",
    "3 = Menor de 2 años\n",
    "\n",
    "________________________________________________________\n",
    "Columnas usadas: 2 - 1 - 9 - 13 - 16\n"
   ]
  },
  {
   "cell_type": "code",
   "execution_count": null,
   "id": "4ea124a0",
   "metadata": {},
   "outputs": [
    {
     "name": "stdout",
     "output_type": "stream",
     "text": [
      "['TQRMNOSUWHLMKQCDEFNFF00852219', '2023', '4', '1', '2', '1', '41', 'N', '7', '370', '2', '2', '26/02/1971', '52', '2', '1', '1', '2', '0', '4', '1', '', '1', '', '1', '', '4', '3', '0', '4', '', '0', '0', '0', '0', '0', '0', '0', '0', '0', '2', '2', '', '', '', '', '', '', '', '', '', '', '', '', '', '', '', '', '', '', '', '', '', '', '', '', '', '', '', '', '', '', '', '', '', '', '', '', '', '', '', '', '', '', '', '', '', '', '', '', '', '', '', '', '', '', '', '', '', '', '', '', '', '', '', '', '', '', '', '', '', '', '', '', '', '', '', '', '', '', '', '', '', '', '', '', '', '', '', '', '', '', '0', '0', '0', '0', '', '0', '0', '370', '0', '0', '0', '0', '0', '', '0', '0', '370', '0', '0', '0', '0', '0', '0', '0', '0', '0', '0', '0', '0', '0', '0', '12', '12', '12', '', '12', '12', '0', '12', '12', '12', '', '12', '12', '0', 'femenino', 'secundario completo', 'inactivo', '0']\n"
     ]
    }
   ],
   "source": [
    "archivo_clean_path = DATA_CLEAN_PATH / \"usu_clean_individual.csv\"\n",
    "\n",
    "def agrupar_por_anio(filas, col_anio=1):\n",
    "    grupos = {}\n",
    "    for fila in filas:\n",
    "        anio = fila[col_anio]\n",
    "        if anio not in grupos:\n",
    "            grupos[anio] = []\n",
    "        grupos[anio].append(fila)\n",
    "    return grupos \n",
    "\n",
    "\n",
    "\n",
    "\n",
    "with archivo_clean_path.open(\"r\",encoding=\"utf-8\") as f:\n",
    "    reader = csv.reader(f,delimiter=\";\")\n",
    "    header = next(reader)\n",
    "    new_list = list()\n",
    "    for elem in reader:\n",
    "        new_elem = elem[0].split(',')\n",
    "        new_list.append(new_elem)\n",
    "    dict_anios = agrupar_por_anio(new_list)\n",
    "            \n",
    "            \n",
    "    "
   ]
  }
 ],
 "metadata": {
  "kernelspec": {
   "display_name": "Python 3",
   "language": "python",
   "name": "python3"
  },
  "language_info": {
   "codemirror_mode": {
    "name": "ipython",
    "version": 3
   },
   "file_extension": ".py",
   "mimetype": "text/x-python",
   "name": "python",
   "nbconvert_exporter": "python",
   "pygments_lexer": "ipython3",
   "version": "3.13.2"
  }
 },
 "nbformat": 4,
 "nbformat_minor": 5
}
