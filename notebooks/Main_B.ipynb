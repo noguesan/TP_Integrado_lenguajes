{
 "cells": [
  {
   "cell_type": "code",
   "execution_count": 56,
   "id": "80db1157",
   "metadata": {},
   "outputs": [],
   "source": [
    "import sys \n",
    "import csv\n",
    "sys.path.append(\"..\")\n",
    "from src.utils.constantes import DATA_CLEAN_PATH\n"
   ]
  },
  {
   "cell_type": "markdown",
   "id": "c0e52ea4",
   "metadata": {},
   "source": [
    "1- A partir de la información de cada año contenida en el dataset se debe informar, año tras año, el porcentaje de personas mayores a 6 años capaces e incapaces de leer y escribir.\n",
    "Importante: tomar la información del último trimestre de cada año."
   ]
  },
  {
   "cell_type": "markdown",
   "id": "2305e3e4",
   "metadata": {},
   "source": [
    "### Tabla individual  \n",
    "1- ANO4 N (4) Año de relevamiento (4 dígitos)\n",
    "\n",
    "2- TRIMESTRE N (1) Ventana de observación  \n",
    "- = 1° trimestre  \n",
    "- = 2° trimestre  \n",
    "- = 3° trimestre  \n",
    "- = 4° trimestre  \n",
    "\n",
    "9- PONDERA N (6) Ponderación  \n",
    "\n",
    "12- CH05 date Fecha de nacimiento\n",
    "(día, mes y año) --> ver como esta dado el dato\n",
    "\n",
    "13- CH06 N (2) ¿Cuántos años cumplidos tiene?\n",
    "\n",
    "16- CH09 N (1) ¿Sabe leer y escribir?\n",
    "1 = Sí\n",
    "2 = No\n",
    "3 = Menor de 2 años\n",
    "\n",
    "________________________________________________________\n",
    "Columnas usadas: 2 - 1 - 9 - 13 - 16\n"
   ]
  },
  {
   "cell_type": "code",
   "execution_count": 57,
   "id": "a59ec020",
   "metadata": {},
   "outputs": [],
   "source": [
    "def separar_por_trimestre(dict_anios): \n",
    "    dict_final = {}\n",
    "    for anio in dict_anios:\n",
    "        dict_temporal = {}\n",
    "        \n",
    "        for filas in dict_anios[anio]:\n",
    "            trimestre = filas[2]\n",
    "            if trimestre not in dict_temporal: \n",
    "                dict_temporal[trimestre] = []\n",
    "            dict_temporal[trimestre].append(filas)\n",
    "\n",
    "        dict_final[anio] = dict_temporal\n",
    "    return dict_final\n",
    "\n",
    "def agrupar_por_anio_y_trimestre(filas, col_anio=1):\n",
    "    grupos = {}\n",
    "    for fila in filas:\n",
    "        anio = fila[col_anio]\n",
    "        if anio not in grupos:\n",
    "            grupos[anio] = []\n",
    "        grupos[anio].append(fila)\n",
    "    grupos_final = separar_por_trimestre(grupos)\n",
    "    return grupos_final\n",
    "\n",
    "\n",
    "\n",
    "def porcentaje(valor,total):\n",
    "    return (valor / total) * 100\n",
    "\n",
    "def analizar_analfabetismo (dict_ultimos_tri, anio): \n",
    "    alfabetos, analfabetos, desconocido, poblacion = 0, 0, 0, 0 \n",
    "    max_1 = max(dict_ultimos_tri[anio].keys())\n",
    "    for elem in dict_ultimos_tri[anio][max_1]:\n",
    "        pondera = int(elem[9])\n",
    "        poblacion += pondera\n",
    "        if int(elem[13]) <= 6: \n",
    "            continue\n",
    "        if elem[16] == \"1\": \n",
    "            alfabetos += pondera\n",
    "        elif elem[16] == \"2\": \n",
    "            analfabetos += pondera\n",
    "        else:\n",
    "            desconocido += pondera\n",
    "    return porcentaje(alfabetos,poblacion), porcentaje(analfabetos,poblacion), porcentaje(desconocido,poblacion)\n",
    "\n",
    "def activ_1(dict_ultimos_tri):\n",
    "    for anios in dict_ultimos_tri: \n",
    "        por_alfa, por_ana , por_desc = analizar_analfabetismo(dict_ultimos_tri,anios)\n",
    "        print(f'en {anios} \\nel porcentaje de Alfabetismo fue: {por_alfa:.2f}% \\nel porcentaje de Analfabetismo fue: {por_ana:.2f}% \\nel porcentaje de desconocidos fue: {por_desc:.2f}%')\n"
   ]
  },
  {
   "cell_type": "code",
   "execution_count": 58,
   "id": "4ea124a0",
   "metadata": {},
   "outputs": [],
   "source": [
    "archivo_clean_path = DATA_CLEAN_PATH / \"usu_clean_individual.csv\"\n",
    "\n",
    "f = archivo_clean_path.open(\"r\",encoding=\"utf-8\") \n",
    "reader = csv.reader(f,delimiter=\";\")\n",
    "header = next(reader)\n",
    "new_list = []\n",
    "for elem in reader:\n",
    "    new_elem = elem[0].split(',')\n",
    "    new_list.append(new_elem)\n",
    "    \n",
    "dict_trimestres = agrupar_por_anio_y_trimestre(new_list)\n"
   ]
  },
  {
   "cell_type": "code",
   "execution_count": 59,
   "id": "ac15ca5e",
   "metadata": {},
   "outputs": [
    {
     "name": "stdout",
     "output_type": "stream",
     "text": [
      "en 2024 \n",
      "el porcentaje de Alfabetismo fue: 90.81% \n",
      "el porcentaje de Analfabetismo fue: 0.84% \n",
      "el porcentaje de desconocidos fue: 0.04%\n",
      "en 2023 \n",
      "el porcentaje de Alfabetismo fue: 90.42% \n",
      "el porcentaje de Analfabetismo fue: 0.84% \n",
      "el porcentaje de desconocidos fue: 0.06%\n"
     ]
    }
   ],
   "source": [
    "activ_1(dict_trimestres)"
   ]
  },
  {
   "cell_type": "markdown",
   "id": "3eb20935",
   "metadata": {},
   "source": [
    "2. A partir de un año y trimestre elegido por el usuario informar el porcentaje de personas no nacidas en Argentina que hayan cursado un nivel universitario o superior."
   ]
  },
  {
   "cell_type": "markdown",
   "id": "0b7a8a4a",
   "metadata": {},
   "source": [
    "#### Tabla individual  \n",
    "1- ANO4 N (4) Año de relevamiento (4 dígitos)\n",
    "\n",
    "2- TRIMESTRE N (1) Ventana de observación  \n",
    "- = 1° trimestre  \n",
    "- = 2° trimestre  \n",
    "- = 3° trimestre  \n",
    "- = 4° trimestre  \n",
    "\n",
    "9- PONDERA N (6) Ponderación  \n",
    "\n",
    "19- CH12 N (2) ¿Cuál es el nivel más alto que cursa o cursó?\n",
    "- 1 = Jardín/preescolar\n",
    "- 2 = Primario\n",
    "- 3 = EGB\n",
    "- 4 = Secundario\n",
    "- 5 = Polimodal\n",
    "- 6 = Terciario\n",
    "- 7 = Universitario\n",
    "- 8 = Posgrado universitario\n",
    "- 9 = Educación especial (discapacitado)\n",
    "\n",
    "22- CH15 N (1) ¿Dónde nació?\n",
    "1. En esta localidad\n",
    "2. En otra localidad de esta provincia\n",
    "3. En otra provincia (especificar)\n",
    "4. En un país limítrofe (especificar: Brasil, Bolivia, Chile, Paraguay, Uruguay)\n",
    "5. En otro país (especificar)\n",
    "9. Ns/Nr\n",
    "\n",
    "26- NIVEL_ED N (1) Nivel educativo\n",
    "- 1 = Primario incompleto (incluye educación especial)\n",
    "- 2 = Primario completo\n",
    "- 3 = Secundario incompleto\n",
    "- 4 = Secundario completo\n",
    "- 5 = Superior universitario incompleto\n",
    "- 6 = Superior universitario completo\n",
    "- 7 = Sin instrucción\n",
    "- 9 = Ns/Nr\n",
    "\n",
    "______________________________\n",
    "Columnas usadas: 1 - 2 - 9 - 19 - 22"
   ]
  },
  {
   "cell_type": "code",
   "execution_count": 60,
   "id": "7e2c6e15",
   "metadata": {},
   "outputs": [],
   "source": [
    "def es_extranjero(valor_ch15):\n",
    "    return valor_ch15 in ['4', '5']\n",
    "\n",
    "def es_universitario(valor_ch12):\n",
    "    return valor_ch12 in ['7', '8']\n",
    "\n",
    "def activ2 (dict_trimestres,anio_elegido= 0,trimestre_elegido= 0):\n",
    "    try:\n",
    "        poblacion, ext_univ = 0, 0\n",
    "        for elem in dict_trimestres[anio_elegido][trimestre_elegido]:\n",
    "            pondera = int(elem[9])\n",
    "            poblacion += pondera\n",
    "            if not es_extranjero(elem[22]):\n",
    "                continue \n",
    "            if not es_universitario(elem[19]):\n",
    "                continue \n",
    "            ext_univ += pondera\n",
    "        return porcentaje(ext_univ,poblacion)\n",
    "    \n",
    "    except KeyError: \n",
    "        print(f'Valores no encontrados en el diccionario')"
   ]
  },
  {
   "cell_type": "markdown",
   "id": "087e6470",
   "metadata": {},
   "source": [
    "Se toma el porcentaje de universitarios recibidos sobre la poblacion total, a chequear si es sobre la poblacion de extranjeros"
   ]
  },
  {
   "cell_type": "code",
   "execution_count": 72,
   "id": "1d81e323",
   "metadata": {},
   "outputs": [
    {
     "name": "stdout",
     "output_type": "stream",
     "text": [
      "el porcentaje de personas extranjeras universitarias es: 0.98\n"
     ]
    }
   ],
   "source": [
    "anio_elegido = input(\"ingrese el año a buscar\")\n",
    "trimestre_elegido = input(\"ingrese el trimestre a buscar\")\n",
    "porcentaje_ext_univ = activ2(dict_trimestres,anio_elegido,trimestre_elegido)\n",
    "if porcentaje_ext_univ: \n",
    "    print(f'el porcentaje de personas extranjeras universitarias es: {porcentaje_ext_univ:.2f}')"
   ]
  },
  {
   "cell_type": "markdown",
   "id": "fd8b111a",
   "metadata": {},
   "source": [
    "3. A partir de la información contenida en el dataset informar el año y trimestre donde hubo menor desocupación."
   ]
  },
  {
   "cell_type": "markdown",
   "id": "75ffd655",
   "metadata": {},
   "source": [
    "Criterio usado:  \n",
    "Poblacion en condiciones de trabajar: aproximadamente entre 18 y 65 años varia dependiendo del sexo.  \n",
    "Población Activa: incluye población ocupada y desempleados (desocupados, personas que no tienen trabajo aunque lo buscan activamente).  \n",
    "Población Inactiva: gente que no tiene trabajo pero tampoco lo busca.  \n",
    "\n",
    "Para el ejercicio se cosiderara:  \n",
    "Población activa = Ocupados + Desocupados  \n",
    "Tasa de paro o desempleo = (Población desocupada / Población activa) x 100"
   ]
  },
  {
   "cell_type": "code",
   "execution_count": 83,
   "id": "e63c22ae",
   "metadata": {},
   "outputs": [],
   "source": [
    "def calcular_tasa_desempleo (dict_trimestres):\n",
    "    dict_tasa = {}\n",
    "    for anio in dict_trimestres:\n",
    "        if anio not in dict_tasa:\n",
    "            dict_tasa[anio] = {}\n",
    "        \n",
    "        for trimestre in dict_trimestres[anio]:\n",
    "            \n",
    "            if trimestre not in dict_tasa[anio]:\n",
    "                dict_tasa[anio][trimestre] = 0.0\n",
    "            \n",
    "            ocupados, desocupados = 0, 0\n",
    "            for elem in dict_trimestres[anio][trimestre]: \n",
    "                pondera = int(elem[9])\n",
    "                if elem[27] == \"1\":\n",
    "                    ocupados += pondera\n",
    "                elif elem[27] == \"2\":\n",
    "                    desocupados += pondera\n",
    "            \n",
    "            activos = desocupados + ocupados\n",
    "            dict_tasa[anio][trimestre] = porcentaje(desocupados,activos)\n",
    "    return dict_tasa\n",
    "\n",
    "def calcular_menor_tasa_desempleo(dict_tasa):\n",
    "    min_tasa = 100\n",
    "    for anio, trimestres in dict_tasa.items():\n",
    "        for trimestre, tasa in trimestres.items():\n",
    "            if tasa < min_tasa:\n",
    "                min_tasa = tasa\n",
    "                max_anio = anio\n",
    "                max_trimestre = trimestre\n",
    "    return max_anio, max_trimestre, min_tasa\n",
    "\n",
    "def activ_3(dict_trimestres):\n",
    "    dict_tasa = calcular_tasa_desempleo(dict_trimestres)\n",
    "    max_anio, max_trimestre, max_tasa = calcular_menor_tasa_desempleo(dict_tasa)\n",
    "    print(f\"Menor tasa de desempleo: {max_tasa:.2f}% en año {max_anio}, trimestre {max_trimestre}\")\n",
    "\n"
   ]
  },
  {
   "cell_type": "code",
   "execution_count": 84,
   "id": "3e646b09",
   "metadata": {},
   "outputs": [
    {
     "name": "stdout",
     "output_type": "stream",
     "text": [
      "Menor tasa de desempleo: 5.73% en año 2023, trimestre 3\n"
     ]
    }
   ],
   "source": [
    "activ_3(dict_trimestres)\n"
   ]
  },
  {
   "cell_type": "code",
   "execution_count": 64,
   "id": "15af1a1d",
   "metadata": {},
   "outputs": [],
   "source": [
    "f.close()"
   ]
  }
 ],
 "metadata": {
  "kernelspec": {
   "display_name": "Python 3",
   "language": "python",
   "name": "python3"
  },
  "language_info": {
   "codemirror_mode": {
    "name": "ipython",
    "version": 3
   },
   "file_extension": ".py",
   "mimetype": "text/x-python",
   "name": "python",
   "nbconvert_exporter": "python",
   "pygments_lexer": "ipython3",
   "version": "3.13.2"
  }
 },
 "nbformat": 4,
 "nbformat_minor": 5
}
