{
 "cells": [
  {
   "cell_type": "code",
   "execution_count": 53,
   "id": "80db1157",
   "metadata": {},
   "outputs": [],
   "source": [
    "import sys \n",
    "import csv\n",
    "sys.path.append(\"..\")\n",
    "from src.utils.constantes import DATA_CLEAN_PATH\n"
   ]
  },
  {
   "cell_type": "markdown",
   "id": "c0e52ea4",
   "metadata": {},
   "source": [
    "1- A partir de la información de cada año contenida en el dataset se debe informar, año tras año, el porcentaje de personas mayores a 6 años capaces e incapaces de leer y escribir.\n",
    "Importante: tomar la información del último trimestre de cada año."
   ]
  },
  {
   "cell_type": "markdown",
   "id": "2305e3e4",
   "metadata": {},
   "source": [
    "### Tabla individual  \n",
    "1- ANO4 N (4) Año de relevamiento (4 dígitos)\n",
    "\n",
    "2- TRIMESTRE N (1) Ventana de observación  \n",
    "- = 1° trimestre  \n",
    "- = 2° trimestre  \n",
    "- = 3° trimestre  \n",
    "- = 4° trimestre  \n",
    "\n",
    "9- PONDERA N (6) Ponderación  \n",
    "\n",
    "12- CH05 date Fecha de nacimiento\n",
    "(día, mes y año) --> ver como esta dado el dato\n",
    "\n",
    "13- CH06 N (2) ¿Cuántos años cumplidos tiene?\n",
    "\n",
    "16- CH09 N (1) ¿Sabe leer y escribir?\n",
    "1 = Sí\n",
    "2 = No\n",
    "3 = Menor de 2 años\n",
    "\n",
    "________________________________________________________\n",
    "Columnas usadas: 2 - 1 - 9 - 13 - 16\n"
   ]
  },
  {
   "cell_type": "code",
   "execution_count": 70,
   "id": "4ea124a0",
   "metadata": {},
   "outputs": [
    {
     "ename": "TypeError",
     "evalue": "porcentaje() missing 1 required positional argument: 'total'",
     "output_type": "error",
     "traceback": [
      "\u001b[31m---------------------------------------------------------------------------\u001b[39m",
      "\u001b[31mTypeError\u001b[39m                                 Traceback (most recent call last)",
      "\u001b[36mCell\u001b[39m\u001b[36m \u001b[39m\u001b[32mIn[70]\u001b[39m\u001b[32m, line 62\u001b[39m\n\u001b[32m     60\u001b[39m dict_anios = agrupar_por_anio(new_list,\u001b[32m1\u001b[39m)\n\u001b[32m     61\u001b[39m dict_ultimos_tri = max_trimestre(dict_anios)\n\u001b[32m---> \u001b[39m\u001b[32m62\u001b[39m \u001b[43mactiv_1\u001b[49m\u001b[43m(\u001b[49m\u001b[43mdict_ultimos_tri\u001b[49m\u001b[43m)\u001b[49m\n",
      "\u001b[36mCell\u001b[39m\u001b[36m \u001b[39m\u001b[32mIn[70]\u001b[39m\u001b[32m, line 50\u001b[39m, in \u001b[36mactiv_1\u001b[39m\u001b[34m(dict_ultimos_tri)\u001b[39m\n\u001b[32m     48\u001b[39m \u001b[38;5;28;01mdef\u001b[39;00m\u001b[38;5;250m \u001b[39m\u001b[34mactiv_1\u001b[39m(dict_ultimos_tri):\n\u001b[32m     49\u001b[39m     \u001b[38;5;28;01mfor\u001b[39;00m anios \u001b[38;5;129;01min\u001b[39;00m dict_ultimos_tri: \n\u001b[32m---> \u001b[39m\u001b[32m50\u001b[39m         por_alfa, por_ana , por_desc = \u001b[43manalizar_analfabetismo\u001b[49m\u001b[43m(\u001b[49m\u001b[43mdict_ultimos_tri\u001b[49m\u001b[43m,\u001b[49m\u001b[43manios\u001b[49m\u001b[43m)\u001b[49m\n\u001b[32m     51\u001b[39m         \u001b[38;5;28mprint\u001b[39m(\u001b[33mf\u001b[39m\u001b[33m'\u001b[39m\u001b[33mel porcentaje de Alfabetismo en \u001b[39m\u001b[38;5;132;01m{\u001b[39;00manios\u001b[38;5;132;01m}\u001b[39;00m\u001b[33m fue: \u001b[39m\u001b[38;5;132;01m{\u001b[39;00mpor_alfa\u001b[38;5;132;01m}\u001b[39;00m\u001b[33m /n el porcentaje de Analfabetismo fue: \u001b[39m\u001b[38;5;132;01m{\u001b[39;00mpor_ana\u001b[38;5;132;01m}\u001b[39;00m\u001b[33m /n el porcentaje de desconocidos fue: \u001b[39m\u001b[38;5;132;01m{\u001b[39;00mpor_desc\u001b[38;5;132;01m}\u001b[39;00m\u001b[33m'\u001b[39m)\n",
      "\u001b[36mCell\u001b[39m\u001b[36m \u001b[39m\u001b[32mIn[70]\u001b[39m\u001b[32m, line 46\u001b[39m, in \u001b[36manalizar_analfabetismo\u001b[39m\u001b[34m(dict_ultimos_tri, anio)\u001b[39m\n\u001b[32m     44\u001b[39m \u001b[38;5;28;01melse\u001b[39;00m: \n\u001b[32m     45\u001b[39m     desconocido += pondera\n\u001b[32m---> \u001b[39m\u001b[32m46\u001b[39m \u001b[38;5;28;01mreturn\u001b[39;00m \u001b[43mporcentaje\u001b[49m\u001b[43m(\u001b[49m\u001b[43malfabetos\u001b[49m\u001b[43m)\u001b[49m, porcentaje(analfabetos), porcentaje(desconocido)\n",
      "\u001b[31mTypeError\u001b[39m: porcentaje() missing 1 required positional argument: 'total'"
     ]
    }
   ],
   "source": [
    "archivo_clean_path = DATA_CLEAN_PATH / \"usu_clean_individual.csv\"\n",
    "\n",
    "def agrupar_por_anio(filas, col_anio=1):\n",
    "    grupos = {}\n",
    "    for fila in filas:\n",
    "        anio = fila[col_anio]\n",
    "        if anio not in grupos:\n",
    "            grupos[anio] = []\n",
    "        grupos[anio].append(fila)\n",
    "    return grupos \n",
    "\n",
    "def max_trimestre(dict_anios): \n",
    "    dict_final = {}\n",
    "    for anio in dict_anios:\n",
    "        dict_temporal = {\n",
    "        \"1\": [],\n",
    "        \"2\": [],\n",
    "        \"3\": [],\n",
    "        \"4\": [] }\n",
    "        max = \"0\" \n",
    "        for filas in dict_anios[anio]:\n",
    "            trimestre = filas[2]\n",
    "            max = trimestre if trimestre > max else max \n",
    "            dict_temporal[trimestre].append(filas)\n",
    "\n",
    "        dict_final[anio] = dict_temporal[max]\n",
    "\n",
    "    return dict_final\n",
    "\n",
    "def porcentaje(valor,total):\n",
    "    return (valor / total) * 100\n",
    "\n",
    "def analizar_analfabetismo (dict_ultimos_tri, anio): \n",
    "    alfabetos, analfabetos, desconocido, poblacion = 0, 0, 0, 0 \n",
    "    for elem in dict_ultimos_tri[anio]: \n",
    "        pondera = int(elem[9])\n",
    "        poblacion += pondera\n",
    "        if int(elem[13]) <= 6: \n",
    "            continue\n",
    "        if elem[16] == \"1\": \n",
    "            alfabetos += pondera\n",
    "        elif elem[16] == \"2\": \n",
    "            analfabetos += pondera\n",
    "        else: \n",
    "            desconocido += pondera\n",
    "        return porcentaje(alfabetos,poblacion), porcentaje(analfabetos,poblacion), porcentaje(desconocido,poblacion)\n",
    "\n",
    "def activ_1(dict_ultimos_tri):\n",
    "    for anios in dict_ultimos_tri: \n",
    "        por_alfa, por_ana , por_desc = analizar_analfabetismo(dict_ultimos_tri,anios)\n",
    "        print(f'el porcentaje de Alfabetismo en {anios} fue: {por_alfa} /n el porcentaje de Analfabetismo fue: {por_ana} /n el porcentaje de desconocidos fue: {por_desc}')\n",
    "\n",
    "with archivo_clean_path.open(\"r\",encoding=\"utf-8\") as f:\n",
    "    reader = csv.reader(f,delimiter=\";\")\n",
    "    header = next(reader)\n",
    "    new_list = list()\n",
    "    for elem in reader:\n",
    "        new_elem = elem[0].split(',')\n",
    "        new_list.append(new_elem)\n",
    "    dict_anios = agrupar_por_anio(new_list,1)\n",
    "    dict_ultimos_tri = max_trimestre(dict_anios)\n",
    "    activ_1(dict_ultimos_tri)\n",
    "\n",
    "            \n",
    "    "
   ]
  }
 ],
 "metadata": {
  "kernelspec": {
   "display_name": "Python 3",
   "language": "python",
   "name": "python3"
  },
  "language_info": {
   "codemirror_mode": {
    "name": "ipython",
    "version": 3
   },
   "file_extension": ".py",
   "mimetype": "text/x-python",
   "name": "python",
   "nbconvert_exporter": "python",
   "pygments_lexer": "ipython3",
   "version": "3.13.2"
  }
 },
 "nbformat": 4,
 "nbformat_minor": 5
}
