{
 "cells": [
  {
   "cell_type": "code",
   "execution_count": 102,
   "id": "80db1157",
   "metadata": {},
   "outputs": [],
   "source": [
    "import sys \n",
    "import csv\n",
    "sys.path.append(\"..\")\n",
    "from src.utils.constantes import DATA_CLEAN_PATH\n",
    "from src.utils.funciones import porcentaje\n"
   ]
  },
  {
   "cell_type": "code",
   "execution_count": 103,
   "id": "62953d7c",
   "metadata": {},
   "outputs": [],
   "source": [
    "def separar_por_trimestre(dict_anios): \n",
    "    dict_final = {}\n",
    "    for anio in dict_anios:\n",
    "        dict_temporal = {}\n",
    "        \n",
    "        for filas in dict_anios[anio]:\n",
    "            trimestre = filas[2]\n",
    "            if trimestre not in dict_temporal: \n",
    "                dict_temporal[trimestre] = []\n",
    "            dict_temporal[trimestre].append(filas)\n",
    "\n",
    "        dict_final[anio] = dict_temporal\n",
    "    return dict_final\n",
    "\n",
    "\n",
    "def agrupar_por_anio_y_trimestre(filas, col_anio=1):\n",
    "    grupos = {}\n",
    "    for fila in filas:\n",
    "        anio = fila[col_anio]\n",
    "        if anio not in grupos:\n",
    "            grupos[anio] = []\n",
    "        grupos[anio].append(fila)\n",
    "    grupos_final = separar_por_trimestre(grupos)\n",
    "    return grupos_final\n",
    "\n",
    "def agrupar_por_aglomerado (new_list_i): \n",
    "    viejo_dict_aglomerados = {}\n",
    "    for elem in new_list_i:\n",
    "        if elem[7] not in viejo_dict_aglomerados: \n",
    "            viejo_dict_aglomerados[elem[7]] = []\n",
    "        viejo_dict_aglomerados[elem[7]].append(elem)\n",
    "    return viejo_dict_aglomerados\n",
    "\n",
    "def obtener_ultimo_archivo (dict_trimestres): \n",
    "    max_anio = max(dict_trimestres.keys())\n",
    "    max_trimestre = max(dict_trimestres[max_anio].keys())\n",
    "    return dict_trimestres[max_anio][max_trimestre]\n",
    "    \n"
   ]
  },
  {
   "cell_type": "markdown",
   "id": "9c72085e",
   "metadata": {},
   "source": [
    "Abriendo archivo individuos"
   ]
  },
  {
   "cell_type": "code",
   "execution_count": 104,
   "id": "ca5fb30b",
   "metadata": {},
   "outputs": [],
   "source": [
    "archivo_clean_path = DATA_CLEAN_PATH / \"usu_clean_individual.csv\"\n",
    "\n",
    "archivo_individuos = archivo_clean_path.open(\"r\",encoding=\"utf-8\") \n",
    "reader = csv.reader(archivo_individuos,delimiter=\";\")\n",
    "header = next(reader)\n",
    "\n",
    "new_list_i = []\n",
    "\n",
    "for elem in reader:\n",
    "    new_elem = elem[0].split(',')\n",
    "    new_list_i.append(new_elem)\n",
    "\n",
    "aglomerados_individuos = agrupar_por_aglomerado(new_list_i)\n",
    "años_trimestres_individuos = agrupar_por_anio_y_trimestre(new_list_i)\n",
    "ultimos_individuos = obtener_ultimo_archivo(años_trimestres_individuos)\n"
   ]
  },
  {
   "cell_type": "markdown",
   "id": "357f0af9",
   "metadata": {},
   "source": [
    "Abriendo archivo hogares\n"
   ]
  },
  {
   "cell_type": "code",
   "execution_count": 105,
   "id": "5da67db5",
   "metadata": {},
   "outputs": [],
   "source": [
    "archivo_clean_path = DATA_CLEAN_PATH / \"usu_clean_hogar.csv\"\n",
    "\n",
    "archivo_hogares = archivo_clean_path.open(\"r\",encoding=\"utf-8\") \n",
    "reader = csv.reader(archivo_hogares,delimiter=\";\")\n",
    "header = next(reader)\n",
    "\n",
    "new_list_h = []\n",
    "\n",
    "for elem in reader:\n",
    "    new_elem = elem[0].split(',')\n",
    "    new_list_h.append(new_elem)\n",
    "\n",
    "aglomerados_hogares = agrupar_por_aglomerado(new_list_h)\n",
    "años_trimestres_hogares = agrupar_por_anio_y_trimestre(new_list_h)\n",
    "ultimos_hogares = obtener_ultimo_archivo(años_trimestres_hogares)\n"
   ]
  },
  {
   "cell_type": "markdown",
   "id": "c0e52ea4",
   "metadata": {},
   "source": [
    "1- A partir de la información de cada año contenida en el dataset se debe informar, año tras año, el porcentaje de personas mayores a 6 años capaces e incapaces de leer y escribir.\n",
    "Importante: tomar la información del último trimestre de cada año."
   ]
  },
  {
   "cell_type": "markdown",
   "id": "2305e3e4",
   "metadata": {},
   "source": [
    "### Tabla individual  \n",
    "1- ANO4 N (4) Año de relevamiento (4 dígitos)\n",
    "\n",
    "2- TRIMESTRE N (1) Ventana de observación  \n",
    "- = 1° trimestre  \n",
    "- = 2° trimestre  \n",
    "- = 3° trimestre  \n",
    "- = 4° trimestre  \n",
    "\n",
    "9- PONDERA N (6) Ponderación  \n",
    "\n",
    "12- CH05 date Fecha de nacimiento\n",
    "(día, mes y año) --> ver como esta dado el dato\n",
    "\n",
    "13- CH06 N (2) ¿Cuántos años cumplidos tiene?\n",
    "\n",
    "16- CH09 N (1) ¿Sabe leer y escribir?\n",
    "1 = Sí\n",
    "2 = No\n",
    "3 = Menor de 2 años\n",
    "\n",
    "________________________________________________________\n",
    "Columnas usadas: 2 - 1 - 9 - 13 - 16\n"
   ]
  },
  {
   "cell_type": "code",
   "execution_count": 106,
   "id": "a981f232",
   "metadata": {},
   "outputs": [],
   "source": [
    "def contar_alfabetismo(filas):\n",
    "    \"\"\"\n",
    "    Recorre las filas y calcula los totales ponderados de:\n",
    "    alfabetos, analfabetos, casos desconocidos y población mayor a 6 años.\n",
    "    \"\"\"\n",
    "    \n",
    "    alfabetos = analfabetos = desconocido = poblacion = 0\n",
    "\n",
    "    for elem in filas:\n",
    "        pondera = int(elem[9]) # es elem[8] no 9, pq es lista y empiezan en 0\n",
    "        edad = int(elem[13])\n",
    "        if edad >= 6:\n",
    "            poblacion += pondera\n",
    "            if elem[16] == \"1\":\n",
    "                alfabetos += pondera\n",
    "            elif elem[16] == \"2\":\n",
    "                analfabetos += pondera\n",
    "            else:\n",
    "                desconocido += pondera\n",
    "    return alfabetos, analfabetos, desconocido, poblacion\n",
    "\n",
    "def calcular_porcentajes(alfabetos, analfabetos, desconocido, poblacion):\n",
    "    \"\"\"\n",
    "    Calcula los porcentajes de alfabetos, analfabetos y desconocidos sobre la población total.\n",
    "    \"\"\"\n",
    "    return (\n",
    "        porcentaje(alfabetos, poblacion),\n",
    "        porcentaje(analfabetos, poblacion),\n",
    "        porcentaje(desconocido, poblacion),\n",
    "    )\n",
    "\n",
    "def obtener_ultimo_trimestre(dict_anio_trimestre,anio):\n",
    "    return max(dict_anio_trimestre[anio].keys())\n",
    "\n",
    "\n",
    "def analizar_analfabetismo(dict_anio_trimestre):\n",
    "    \"\"\"\n",
    "    Para cada año, calcula e imprime el último trimestre disponible y los\n",
    "    porcentajes de alfabetos, analfabetos y casos desconocidos en población > 6 años.\n",
    "    \"\"\"\n",
    "    for anio in dict_anio_trimestre:\n",
    "        trimestre = obtener_ultimo_trimestre(dict_anio_trimestre, anio)\n",
    "        filas = dict_anio_trimestre[anio][trimestre]\n",
    "        alfabetos, analfabetos, desconocido, poblacion = contar_alfabetismo(filas)\n",
    "        por_alfa, por_ana, por_desc = calcular_porcentajes(alfabetos, analfabetos, desconocido, poblacion)\n",
    "\n",
    "        print(f\"Año {anio}, Trimestre {trimestre}\")\n",
    "        print(f\"  - Alfabetismo: {por_alfa:.2f}%\")\n",
    "        print(f\"  - Analfabetismo: {por_ana:.2f}%\")\n",
    "        print(f\"  - Desconocido: {por_desc:.2f}%\\n\")\n",
    "\n",
    "def actividad_1(individuos):\n",
    "    analizar_analfabetismo(individuos)\n",
    "\n"
   ]
  },
  {
   "cell_type": "code",
   "execution_count": 107,
   "id": "229ce836",
   "metadata": {},
   "outputs": [
    {
     "name": "stdout",
     "output_type": "stream",
     "text": [
      "Año 2024, Trimestre 2\n",
      "  - Alfabetismo: 98.57%\n",
      "  - Analfabetismo: 1.39%\n",
      "  - Desconocido: 0.04%\n",
      "\n",
      "Año 2023, Trimestre 4\n",
      "  - Alfabetismo: 98.47%\n",
      "  - Analfabetismo: 1.46%\n",
      "  - Desconocido: 0.07%\n",
      "\n"
     ]
    }
   ],
   "source": [
    "actividad_1(años_trimestres_individuos)"
   ]
  },
  {
   "cell_type": "markdown",
   "id": "3eb20935",
   "metadata": {},
   "source": [
    "2. A partir de un año y trimestre elegido por el usuario informar el porcentaje de personas no nacidas en Argentina que hayan cursado un nivel universitario o superior."
   ]
  },
  {
   "cell_type": "markdown",
   "id": "0b7a8a4a",
   "metadata": {},
   "source": [
    "#### Tabla individual  \n",
    "1- ANO4 N (4) Año de relevamiento (4 dígitos)\n",
    "\n",
    "2- TRIMESTRE N (1) Ventana de observación  \n",
    "- = 1° trimestre  \n",
    "- = 2° trimestre  \n",
    "- = 3° trimestre  \n",
    "- = 4° trimestre  \n",
    "\n",
    "9- PONDERA N (6) Ponderación  \n",
    "\n",
    "19- CH12 N (2) ¿Cuál es el nivel más alto que cursa o cursó?\n",
    "- 1 = Jardín/preescolar\n",
    "- 2 = Primario\n",
    "- 3 = EGB\n",
    "- 4 = Secundario\n",
    "- 5 = Polimodal\n",
    "- 6 = Terciario\n",
    "- 7 = Universitario\n",
    "- 8 = Posgrado universitario\n",
    "- 9 = Educación especial (discapacitado)\n",
    "\n",
    "22- CH15 N (1) ¿Dónde nació?\n",
    "1. En esta localidad\n",
    "2. En otra localidad de esta provincia\n",
    "3. En otra provincia (especificar)\n",
    "4. En un país limítrofe (especificar: Brasil, Bolivia, Chile, Paraguay, Uruguay)\n",
    "5. En otro país (especificar)\n",
    "9. Ns/Nr\n",
    "\n",
    "26- NIVEL_ED N (1) Nivel educativo\n",
    "- 1 = Primario incompleto (incluye educación especial)\n",
    "- 2 = Primario completo\n",
    "- 3 = Secundario incompleto\n",
    "- 4 = Secundario completo\n",
    "- 5 = Superior universitario incompleto\n",
    "- 6 = Superior universitario completo\n",
    "- 7 = Sin instrucción\n",
    "- 9 = Ns/Nr\n",
    "\n",
    "______________________________\n",
    "Columnas usadas: 1 - 2 - 9 - 19 - 22"
   ]
  },
  {
   "cell_type": "code",
   "execution_count": 108,
   "id": "7e2c6e15",
   "metadata": {},
   "outputs": [],
   "source": [
    "def es_extranjero(valor_ch15):\n",
    "    return valor_ch15 in ['4', '5']\n",
    "\n",
    "def es_universitario(valor_ch12):\n",
    "    return valor_ch12 in ['7', '8']\n",
    "\n",
    "def activ2 (dict_trimestres,anio_elegido= 0,trimestre_elegido= 0):\n",
    "    try:\n",
    "        poblacion, ext_univ = 0, 0\n",
    "        for elem in dict_trimestres[anio_elegido][trimestre_elegido]:\n",
    "            pondera = int(elem[8])\n",
    "            poblacion += pondera\n",
    "            if not es_extranjero(elem[22]):\n",
    "                continue \n",
    "            if not es_universitario(elem[19]):\n",
    "                continue \n",
    "            ext_univ += pondera\n",
    "        return porcentaje(ext_univ,poblacion)\n",
    "    \n",
    "    except KeyError: \n",
    "        print(f'Valores no encontrados en el diccionario')"
   ]
  },
  {
   "cell_type": "code",
   "execution_count": null,
   "id": "b1eda1b7",
   "metadata": {},
   "outputs": [],
   "source": [
    "def contar_extranjeros_universitarios(filas):\n",
    "    # Calcula la cantidad de extranjeros, universitarios y ambos combinados\n",
    "    total_extranjeros = total_universitarios = total_universitarios_extranjeros = 0\n",
    "\n",
    "    for elem in filas:\n",
    "        pondera = int(elem[9])\n",
    "        ch12 = elem[19]  # nivel educativo\n",
    "        ch15 = elem[22]  # lugar de nacimiento\n",
    "\n",
    "        if es_extranjero(ch15):\n",
    "            total_extranjeros += pondera\n",
    "            if es_universitario(ch12):\n",
    "                total_universitarios_extranjeros += pondera\n",
    "\n",
    "        if es_universitario(ch12):\n",
    "            total_universitarios += pondera\n",
    "\n",
    "    return total_extranjeros, total_universitarios, total_universitarios_extranjeros"
   ]
  },
  {
   "cell_type": "markdown",
   "id": "087e6470",
   "metadata": {},
   "source": [
    "Se toma el porcentaje de universitarios recibidos sobre la poblacion total, a chequear si es sobre la poblacion de extranjeros"
   ]
  },
  {
   "cell_type": "code",
   "execution_count": 109,
   "id": "1d81e323",
   "metadata": {},
   "outputs": [
    {
     "name": "stdout",
     "output_type": "stream",
     "text": [
      "el porcentaje de personas extranjeras universitarias es: 0.53\n"
     ]
    }
   ],
   "source": [
    "anio_elegido = input(\"ingrese el año a buscar\")\n",
    "trimestre_elegido = input(\"ingrese el trimestre a buscar\")\n",
    "porcentaje_ext_univ = activ2(años_trimestres_individuos,anio_elegido,trimestre_elegido)\n",
    "if porcentaje_ext_univ: \n",
    "    print(f'el porcentaje de personas extranjeras universitarias es: {porcentaje_ext_univ:.2f}')"
   ]
  },
  {
   "cell_type": "markdown",
   "id": "fd8b111a",
   "metadata": {},
   "source": [
    "3. A partir de la información contenida en el dataset informar el año y trimestre donde hubo menor desocupación."
   ]
  },
  {
   "cell_type": "markdown",
   "id": "75ffd655",
   "metadata": {},
   "source": [
    "Criterio usado:  \n",
    "Poblacion en condiciones de trabajar: aproximadamente entre 18 y 65 años varia dependiendo del sexo.  \n",
    "Población Activa: incluye población ocupada y desempleados (desocupados, personas que no tienen trabajo aunque lo buscan activamente).  \n",
    "Población Inactiva: gente que no tiene trabajo pero tampoco lo busca.  \n",
    "\n",
    "Para el ejercicio se cosiderara:  \n",
    "Población activa = Ocupados + Desocupados  \n",
    "Tasa de paro o desempleo = (Población desocupada / Población activa) x 100"
   ]
  },
  {
   "cell_type": "code",
   "execution_count": 110,
   "id": "e63c22ae",
   "metadata": {},
   "outputs": [],
   "source": [
    "def calcular_tasa_desempleo (dict_trimestres):\n",
    "    dict_tasa = {}\n",
    "    for anio in dict_trimestres:\n",
    "        if anio not in dict_tasa:\n",
    "            dict_tasa[anio] = {}\n",
    "        \n",
    "        for trimestre in dict_trimestres[anio]:\n",
    "            \n",
    "            if trimestre not in dict_tasa[anio]:\n",
    "                dict_tasa[anio][trimestre] = 0.0\n",
    "            \n",
    "            ocupados, desocupados = 0, 0\n",
    "            for elem in dict_trimestres[anio][trimestre]: \n",
    "                pondera = int(elem[8])\n",
    "                if elem[27] == \"1\":\n",
    "                    ocupados += pondera\n",
    "                elif elem[27] == \"2\":\n",
    "                    desocupados += pondera\n",
    "            \n",
    "            activos = desocupados + ocupados\n",
    "            dict_tasa[anio][trimestre] = porcentaje(desocupados,activos)\n",
    "    return dict_tasa\n",
    "\n",
    "def calcular_menor_tasa_desempleo(dict_tasa):\n",
    "    min_tasa = 100\n",
    "    for anio, trimestres in dict_tasa.items():\n",
    "        for trimestre, tasa in trimestres.items():\n",
    "            if tasa < min_tasa:\n",
    "                min_tasa = tasa\n",
    "                max_anio = anio\n",
    "                max_trimestre = trimestre\n",
    "    return max_anio, max_trimestre, min_tasa\n",
    "\n",
    "def activ_3(dict_trimestres):\n",
    "    dict_tasa = calcular_tasa_desempleo(dict_trimestres)\n",
    "    max_anio, max_trimestre, max_tasa = calcular_menor_tasa_desempleo(dict_tasa)\n",
    "    print(f\"Menor tasa de desempleo: {max_tasa:.2f}% en año {max_anio}, trimestre {max_trimestre}\")\n",
    "\n"
   ]
  },
  {
   "cell_type": "code",
   "execution_count": 111,
   "id": "3e646b09",
   "metadata": {},
   "outputs": [
    {
     "name": "stdout",
     "output_type": "stream",
     "text": [
      "Menor tasa de desempleo: 4.71% en año 2023, trimestre 4\n"
     ]
    }
   ],
   "source": [
    "activ_3(años_trimestres_individuos)"
   ]
  },
  {
   "cell_type": "markdown",
   "id": "e55ce890",
   "metadata": {},
   "source": [
    "Abriendo el archivo Hogares\n"
   ]
  },
  {
   "cell_type": "markdown",
   "id": "74da9537",
   "metadata": {},
   "source": [
    "\n",
    "4.  Ranking de los 5 aglomerados con mayor porcentaje de hogares con dos o más \n",
    "ocupantes con estudios universitarios o superiores finalizados. Información obtenida \n",
    "a partir del par de archivos más recientes. "
   ]
  },
  {
   "cell_type": "code",
   "execution_count": 112,
   "id": "cd9dc092",
   "metadata": {},
   "outputs": [],
   "source": [
    "def tiene_dos_ocupantes (elem): \n",
    "    return int(elem[64]) >= 2 \n",
    "def es_universitario (elem): \n",
    "    return elem[26] in [\"5\",\"6\"]\n",
    "\n",
    "def activ4 (dict_trimestres_i, dict_trimestres_h):\n",
    "# busca el ultimo archivo de Hogares y Individuos \n",
    "\n",
    "    ## busca el año mas reciente de cada uno de los diccionarios (divididos por triemstre)\n",
    "    max_anio_i = max(dict_trimestres_i.keys())\n",
    "\n",
    "    max_anio_h = max(dict_trimestres_h.keys())\n",
    "\n",
    "    ## busca el trimestre mas reciente para cada uno de los diccionarios (en el año maximo obtenido anteriormmnte)\n",
    "    max_tri_i = max(dict_trimestres_i[max_anio_i].keys())\n",
    "\n",
    "    max_tri_h = max(dict_trimestres_h[max_anio_h].keys())\n",
    "\n",
    "    ## guarda los hogares e individuos encuestados del periodo mas reciente (trimestre y año tomados anteriormente)\n",
    "    ultimos_hogares = dict_trimestres_h[max_anio_h][max_tri_h]\n",
    "\n",
    "    ultimos_individuos  = dict_trimestres_i[max_anio_i][max_tri_i]\n",
    "    \n",
    "    ## declarando listas y dicts\n",
    "    hogares_CODUSU, individuos_CODUSU, hogares, individuos = [], [], [], [] \n",
    "\n",
    "    poblacion_total_aglomerado, encuestas_finales, porcentajes_finales = {}, {}, {}\n",
    "\n",
    "# busca dentro de los hogares e individuos mas recientes si cumplen con las condiciones\n",
    "\n",
    "    ## guarda los hogares que cumplen con la condicion y su respectivo CODUSU \n",
    "    for elem in ultimos_hogares: \n",
    "        if not tiene_dos_ocupantes(elem):\n",
    "            continue\n",
    "        hogares.append(elem)\n",
    "        hogares_CODUSU.append(elem[0]) \n",
    "\n",
    "    ## guarda los individuos que cumplen con la condicion y su respectivo CODUSU \n",
    "    for elem in ultimos_individuos:\n",
    "        if not es_universitario(elem): \n",
    "            continue \n",
    "        individuos.append(elem)\n",
    "        individuos_CODUSU.append(elem[0])\n",
    "\n",
    "# busca dentro de los hogares e intenta encontrar los que cumplen las condiciones de individuos y hogares\n",
    "\n",
    "    for elem in hogares:\n",
    "    \n",
    "    ## añade lo que pondera cada aglomerado en un aglomerado_pondera\n",
    "        if elem[7] not in poblacion_total_aglomerado:\n",
    "            poblacion_total_aglomerado[elem[7]] = 0\n",
    "\n",
    "        poblacion_total_aglomerado[elem[7]] += int(elem[8])\n",
    "\n",
    "    ## si no cumple la condicion de individuos se ignora ya cumple con la condicion de hogares, por ende si cumple esta cumple con ambas\n",
    "        if elem[0] not in individuos_CODUSU: \n",
    "            continue \n",
    "\n",
    "    ## añade las encuestas finales( que cumplen con ambas condiciones) a encuestas_finales, separado por aglomerado \n",
    "        if elem[7] not in encuestas_finales:\n",
    "            encuestas_finales[elem[7]] = []\n",
    "\n",
    "        encuestas_finales[elem[7]].append(elem)\n",
    "\n",
    "    for aglomerado in encuestas_finales:\n",
    "    ## crea un diccionario dividido por aglomerado con lo que ponderan las encuestas finales \n",
    "        poblacion_final_aglomerado = 0\n",
    "\n",
    "        if aglomerado not in porcentajes_finales:\n",
    "            porcentajes_finales[aglomerado] = 0 \n",
    "\n",
    "        for elem in encuestas_finales[aglomerado]: \n",
    "            poblacion_final_aglomerado += int(elem[8])\n",
    "        \n",
    "    ## porcentaje de hogares que cumplen con las condiciones, dividido por aglomerado \n",
    "        porcentajes_finales[aglomerado] = porcentaje(poblacion_final_aglomerado, poblacion_total_aglomerado[aglomerado])\n",
    "    \n",
    "\n",
    "    ## encuentra el aglomerado con el mayor porcentaje \n",
    "    max_porcentaje = 0 \n",
    "    max_aglomerado = 0 \n",
    "    for aglomerado in porcentajes_finales: \n",
    "        if porcentajes_finales[aglomerado] > max_porcentaje:\n",
    "            max_aglomerado = aglomerado\n",
    "            max_porcentaje = porcentajes_finales[aglomerado]\n",
    "        \n",
    "    print(f'el aglomerado con mayor porcentaje fue el: {max_aglomerado} con un porcentaje de {max_porcentaje:.2f}')\n",
    "\n"
   ]
  },
  {
   "cell_type": "code",
   "execution_count": 113,
   "id": "fc004fb6",
   "metadata": {},
   "outputs": [
    {
     "name": "stdout",
     "output_type": "stream",
     "text": [
      "el aglomerado con mayor porcentaje fue el: 32 con un porcentaje de 72.42\n"
     ]
    }
   ],
   "source": [
    "activ4(años_trimestres_individuos,años_trimestres_hogares)"
   ]
  },
  {
   "cell_type": "markdown",
   "id": "1b538ced",
   "metadata": {},
   "source": [
    "- 5. Informar para cada aglomerado el porcentaje de viviendas ocupadas por sus\n",
    "propietarios."
   ]
  },
  {
   "cell_type": "code",
   "execution_count": 114,
   "id": "01e6365e",
   "metadata": {},
   "outputs": [],
   "source": [
    "def porcentaje_propietarios_por_aglomerado(dict_aglomerados, col_aglomerado=7, col_pondera=8, col_tenencia=37):\n",
    "    \n",
    "    resultados = {}\n",
    "    \n",
    "    for aglomerado in dict_aglomerados:\n",
    "        for elem in dict_aglomerados[aglomerado]:\n",
    "            try:\n",
    "                pondera = int(elem[col_pondera])\n",
    "                tenencia = elem[col_tenencia]\n",
    "\n",
    "                if aglomerado not in resultados:\n",
    "                    resultados[aglomerado] = {'total': 0, 'propietarios': 0}\n",
    "        \n",
    "                if tenencia in ('1', '2'):  # Propietario total o parcial\n",
    "                    resultados[aglomerado]['propietarios'] += pondera\n",
    "            \n",
    "                resultados[aglomerado]['total'] += pondera \n",
    "            except:\n",
    "                continue\n",
    "    # Calcular porcentaje para cada aglomerado\n",
    "    for aglomerado, valores in sorted(resultados.items()):\n",
    "        \n",
    "        porcentaje_prop = porcentaje(valores[\"propietarios\"], valores[\"total\"])\n",
    "        \n",
    "        print(f\"Aglomerado {aglomerado}: {porcentaje_prop:.2f}% viviendas de propietarios\")\n",
    "\n"
   ]
  },
  {
   "cell_type": "code",
   "execution_count": 115,
   "id": "d516b09d",
   "metadata": {},
   "outputs": [
    {
     "name": "stdout",
     "output_type": "stream",
     "text": [
      "Aglomerado 10: 60.77% viviendas de propietarios\n",
      "Aglomerado 12: 69.69% viviendas de propietarios\n",
      "Aglomerado 13: 51.33% viviendas de propietarios\n",
      "Aglomerado 14: 74.32% viviendas de propietarios\n",
      "Aglomerado 15: 77.97% viviendas de propietarios\n",
      "Aglomerado 17: 65.89% viviendas de propietarios\n",
      "Aglomerado 18: 85.90% viviendas de propietarios\n",
      "Aglomerado 19: 80.18% viviendas de propietarios\n",
      "Aglomerado 2: 66.95% viviendas de propietarios\n",
      "Aglomerado 20: 50.45% viviendas de propietarios\n",
      "Aglomerado 22: 83.34% viviendas de propietarios\n",
      "Aglomerado 23: 66.98% viviendas de propietarios\n",
      "Aglomerado 25: 72.74% viviendas de propietarios\n",
      "Aglomerado 26: 63.48% viviendas de propietarios\n",
      "Aglomerado 27: 64.93% viviendas de propietarios\n",
      "Aglomerado 29: 67.26% viviendas de propietarios\n",
      "Aglomerado 3: 62.95% viviendas de propietarios\n",
      "Aglomerado 30: 59.61% viviendas de propietarios\n",
      "Aglomerado 31: 52.61% viviendas de propietarios\n",
      "Aglomerado 32: 53.63% viviendas de propietarios\n",
      "Aglomerado 33: 71.48% viviendas de propietarios\n",
      "Aglomerado 34: 68.64% viviendas de propietarios\n",
      "Aglomerado 36: 56.95% viviendas de propietarios\n",
      "Aglomerado 38: 72.37% viviendas de propietarios\n",
      "Aglomerado 4: 67.89% viviendas de propietarios\n",
      "Aglomerado 5: 70.87% viviendas de propietarios\n",
      "Aglomerado 6: 71.87% viviendas de propietarios\n",
      "Aglomerado 7: 70.50% viviendas de propietarios\n",
      "Aglomerado 8: 79.05% viviendas de propietarios\n",
      "Aglomerado 9: 66.09% viviendas de propietarios\n",
      "Aglomerado 91: 64.33% viviendas de propietarios\n",
      "Aglomerado 93: 66.30% viviendas de propietarios\n"
     ]
    }
   ],
   "source": [
    "porcentaje_propietarios_por_aglomerado(aglomerados_hogares)"
   ]
  },
  {
   "cell_type": "markdown",
   "id": "163dabf2",
   "metadata": {},
   "source": [
    "6. Informar el aglomerado con mayor cantidad de viviendas con más de dos ocupantes\n",
    "y sin baño. Informar también la cantidad de ellas."
   ]
  },
  {
   "cell_type": "code",
   "execution_count": null,
   "id": "7bb8411e",
   "metadata": {},
   "outputs": [],
   "source": []
  },
  {
   "cell_type": "code",
   "execution_count": 116,
   "id": "15af1a1d",
   "metadata": {},
   "outputs": [],
   "source": [
    "archivo_hogares.close()\n",
    "archivo_individuos.close()"
   ]
  }
 ],
 "metadata": {
  "kernelspec": {
   "display_name": "Python 3",
   "language": "python",
   "name": "python3"
  },
  "language_info": {
   "codemirror_mode": {
    "name": "ipython",
    "version": 3
   },
   "file_extension": ".py",
   "mimetype": "text/x-python",
   "name": "python",
   "nbconvert_exporter": "python",
   "pygments_lexer": "ipython3",
   "version": "3.13.2"
  }
 },
 "nbformat": 4,
 "nbformat_minor": 5
}
