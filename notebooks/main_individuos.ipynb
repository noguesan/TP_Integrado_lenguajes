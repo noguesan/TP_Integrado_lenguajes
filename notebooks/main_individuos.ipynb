{
 "cells": [
  {
   "cell_type": "markdown",
   "id": "3baac561",
   "metadata": {},
   "source": [
    "NOTEBOOK DE PROCESAMIENTO DE LOS ARCHIVOS usu_individual.txt "
   ]
  },
  {
   "cell_type": "markdown",
   "id": "986a727f",
   "metadata": {},
   "source": [
    "este archivo permite procesar de forma generica los archivos usu_individual.txt de forma que se pueda añadir de forma que se pueda tener n cantidad de archivos y funcione de forma generica "
   ]
  },
  {
   "cell_type": "code",
   "execution_count": 10,
   "id": "5b07fee8",
   "metadata": {},
   "outputs": [],
   "source": [
    "import sys \n",
    "sys.path.append(\"..\")\n",
    "from src.utils.funciones import unir_archivos\n"
   ]
  },
  {
   "cell_type": "markdown",
   "id": "4c192335",
   "metadata": {},
   "source": [
    "Luego de importar la funcion unir_archivos (encontrada en funciones.py), que permite unificar cualq archivo .txt del tipo usu_hogar o usu_individuos, se le pasa por parametro el tipo utilizado"
   ]
  },
  {
   "cell_type": "code",
   "execution_count": 11,
   "id": "6d8ae30f",
   "metadata": {},
   "outputs": [],
   "source": [
    "unir_archivos(\"usu_individual\")"
   ]
  },
  {
   "cell_type": "markdown",
   "id": "b1fe9d25",
   "metadata": {},
   "source": [
    "De esta forma se crea el archivo CSV que unifica todos los demas archivos.txt, sin repetir encabezados "
   ]
  }
 ],
 "metadata": {
  "kernelspec": {
   "display_name": "Python 3",
   "language": "python",
   "name": "python3"
  },
  "language_info": {
   "codemirror_mode": {
    "name": "ipython",
    "version": 3
   },
   "file_extension": ".py",
   "mimetype": "text/x-python",
   "name": "python",
   "nbconvert_exporter": "python",
   "pygments_lexer": "ipython3",
   "version": "3.13.2"
  }
 },
 "nbformat": 4,
 "nbformat_minor": 5
}
