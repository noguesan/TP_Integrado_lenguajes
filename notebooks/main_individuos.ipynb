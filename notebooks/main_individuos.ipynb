{
 "cells": [
  {
   "cell_type": "markdown",
   "id": "3baac561",
   "metadata": {},
   "source": [
    "NOTEBOOK DE PROCESAMIENTO DE LOS ARCHIVOS usu_individual.txt "
   ]
  },
  {
   "cell_type": "markdown",
   "id": "986a727f",
   "metadata": {},
   "source": [
    "este archivo permite procesar de forma generica los archivos usu_individual.txt de forma que se pueda añadir de forma que se pueda tener n cantidad de archivos y funcione de forma generica "
   ]
  },
  {
   "cell_type": "markdown",
   "id": "0e56053e",
   "metadata": {},
   "source": []
  },
  {
   "cell_type": "code",
   "execution_count": null,
   "id": "a33b6d25",
   "metadata": {},
   "outputs": [],
   "source": [
    "import sys \n",
    "sys.path.append(\"..\")\n"
   ]
  },
  {
   "cell_type": "code",
   "execution_count": null,
   "id": "d707abd8",
   "metadata": {},
   "outputs": [],
   "source": [
    "from src.utils.constantes import DATA_RAW_PATH , DATA_PROCESSED_PATH\n",
    "from glob import glob "
   ]
  },
  {
   "cell_type": "code",
   "execution_count": null,
   "id": "5b07fee8",
   "metadata": {},
   "outputs": [],
   "source": [
    "def unir_lineas(f,processed):\n",
    "    for lines in f: \n",
    "        processed.write(lines)\n",
    "\n",
    "def unir_archivos_individuos (tipo): \n",
    "    new_tipo = str(tipo) + \"*\"\n",
    "    new_tipo_csv = str(tipo) + \".csv\"\n",
    "    encabezado = False\n",
    "    archivo_processed = DATA_PROCESSED_PATH / new_tipo_csv\n",
    "    \n",
    "    with archivo_processed.open(\"w\") as processed:\n",
    "        \n",
    "        for archivo in DATA_RAW_PATH.glob(new_tipo):\n",
    "            \n",
    "            with open(archivo) as f:\n",
    "                if encabezado == False: \n",
    "                    unir_lineas(f,processed)\n",
    "                    encabezado = True \n",
    "                else: \n",
    "                    f.next() \n",
    "                    unir_lineas(f,processed)\n",
    "\n",
    "            "
   ]
  }
 ],
 "metadata": {
  "kernelspec": {
   "display_name": "Python 3",
   "language": "python",
   "name": "python3"
  },
  "language_info": {
   "codemirror_mode": {
    "name": "ipython",
    "version": 3
   },
   "file_extension": ".py",
   "mimetype": "text/x-python",
   "name": "python",
   "nbconvert_exporter": "python",
   "pygments_lexer": "ipython3",
   "version": "3.13.2"
  }
 },
 "nbformat": 4,
 "nbformat_minor": 5
}
