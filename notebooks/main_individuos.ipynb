{
 "cells": [
  {
   "cell_type": "markdown",
   "id": "3baac561",
   "metadata": {},
   "source": [
    "NOTEBOOK DE PROCESAMIENTO DE LOS ARCHIVOS usu_individual.txt "
   ]
  },
  {
   "cell_type": "markdown",
   "id": "986a727f",
   "metadata": {},
   "source": [
    "este archivo permite procesar de forma generica los archivos usu_individual.txt de forma que se pueda añadir de forma que se pueda tener n cantidad de archivos y funcione de forma generica "
   ]
  },
  {
   "cell_type": "code",
   "execution_count": 2,
   "id": "5b07fee8",
   "metadata": {},
   "outputs": [],
   "source": [
    "import sys \n",
    "sys.path.append(\"..\")\n",
    "from src.utils.funciones import unir_archivos\n",
    "import csv \n",
    "from src.utils.constantes import DATA_PROCESSED_PATH, DATA_CLEAN_PATH "
   ]
  },
  {
   "cell_type": "markdown",
   "id": "4c192335",
   "metadata": {},
   "source": [
    "Luego de importar la funcion unir_archivos (encontrada en funciones.py), que permite unificar cualq archivo .txt del tipo usu_hogar o usu_individuos, se le pasa por parametro el tipo utilizado"
   ]
  },
  {
   "cell_type": "code",
   "execution_count": 5,
   "id": "6d8ae30f",
   "metadata": {},
   "outputs": [],
   "source": [
    "unir_archivos(\"usu_individual\")"
   ]
  },
  {
   "cell_type": "markdown",
   "id": "b1fe9d25",
   "metadata": {},
   "source": [
    "De esta forma se crea el archivo CSV que unifica todos los demas archivos.txt, sin repetir encabezados "
   ]
  },
  {
   "cell_type": "markdown",
   "id": "83294af4",
   "metadata": {},
   "source": [
    "En esta seccion se cumplira con las siguientes consignas de la seccion A, y se traduciran los datos numericos a datos legibles\n",
    " "
   ]
  },
  {
   "cell_type": "code",
   "execution_count": 27,
   "id": "542b3da8",
   "metadata": {},
   "outputs": [],
   "source": [
    "def ch04_str (new_fila,fila):  \n",
    "    if fila[11] == \"1\": \n",
    "        new_fila.append(\"masculino\")\n",
    "    else: \n",
    "        new_fila.append(\"femenino\")\n",
    "\n",
    "def nivel_ed (new_fila,fila):\n",
    "    if fila[26] == \"1\": \n",
    "        new_fila.append(\"primario incompleto\")\n",
    "    elif fila[26] == \"2\": \n",
    "        new_fila.append(\"primario completo\")\n",
    "    elif fila[26] == \"3\": \n",
    "        new_fila.append(\"secundario incompleto\")\n",
    "    elif fila[26] == \"4\": \n",
    "        new_fila.append(\"secundario completo\")\n",
    "    elif fila[26] == \"5\" or fila[26] == \"6\": \n",
    "        new_fila.append(\"superior o universitario\")\n",
    "    else:\n",
    "        new_fila.append(\"sin informacion\")\n",
    "\n",
    "def condicion_laboral (new_fila,fila):\n",
    "    if fila[27] == \"1\":\n",
    "        if fila[28] == 1 or fila[28] == 2 : \n",
    "            new_fila.append(\"ocupado autonomo\")\n",
    "        else:\n",
    "            for i in [\"3\",\"4\",\"9\"]:\n",
    "                if fila[28] == i: \n",
    "                    new_fila.append(\"ocupado dependiente\")\n",
    "    elif fila[27] == \"2\": \n",
    "        new_fila.append(\"desocupado\")\n",
    "    elif fila[27] == \"3\": \n",
    "        new_fila.append(\"inactivo\")\n",
    "    else: \n",
    "        new_fila.append(\"fuera de categoria\")\n",
    "    \n",
    "def universitario (new_fila,fila): \n",
    "    if fila[13] < \"18\":\n",
    "        new_fila.append(\"2\")\n",
    "    else: \n",
    "        if fila[26] == \"5\" or fila[26] == \"6\":\n",
    "            new_fila.append(\"1\")\n",
    "        else: \n",
    "            new_fila.append(\"0\")\n",
    "\n",
    "def new_fila (fila):\n",
    "    new_fila = fila[:]\n",
    "    ch04_str(new_fila,fila)\n",
    "    nivel_ed(new_fila,fila)\n",
    "    condicion_laboral(new_fila,fila)\n",
    "    universitario(new_fila,fila)\n",
    "    return new_fila"
   ]
  },
  {
   "cell_type": "code",
   "execution_count": 28,
   "id": "3fc6b174",
   "metadata": {},
   "outputs": [],
   "source": [
    "archivo_clean = DATA_CLEAN_PATH / \"usu_clean_individual.csv\"\n",
    "archivo_processed = DATA_PROCESSED_PATH / \"usu_individual.csv\"\n",
    "archivo_csv = open(archivo_processed, encoding='utf-8')\n",
    "\n",
    "with archivo_clean.open(\"w\") as f:\n",
    "    with archivo_processed.open(\"r\",encoding=\"utf-8\") as p:\n",
    "        lector = csv.reader(p,delimiter=\";\")\n",
    "        encabezado = next(lector) + [\"CH04_str\", \"NIVEL_ED_str\",\"CONDICION_LABORAL\",\"UNIVERSITARIO\"]\n",
    "        escritor = csv.writer(f)\n",
    "        escritor.writerow(encabezado)\n",
    "        for fila in lector:\n",
    "            escritor.writerow(new_fila(fila))\n",
    "        \n",
    "\n",
    "\n",
    "    \n",
    "\n",
    " "
   ]
  }
 ],
 "metadata": {
  "kernelspec": {
   "display_name": "Python 3",
   "language": "python",
   "name": "python3"
  },
  "language_info": {
   "codemirror_mode": {
    "name": "ipython",
    "version": 3
   },
   "file_extension": ".py",
   "mimetype": "text/x-python",
   "name": "python",
   "nbconvert_exporter": "python",
   "pygments_lexer": "ipython3",
   "version": "3.13.2"
  }
 },
 "nbformat": 4,
 "nbformat_minor": 5
}
