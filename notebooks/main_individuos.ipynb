{
 "cells": [
  {
   "cell_type": "markdown",
   "id": "3baac561",
   "metadata": {},
   "source": [
    "NOTEBOOK DE PROCESAMIENTO DE LOS ARCHIVOS usu_individual.txt "
   ]
  },
  {
   "cell_type": "markdown",
   "id": "986a727f",
   "metadata": {},
   "source": [
    "este archivo permite procesar de forma generica los archivos usu_individual.txt de forma que se pueda añadir de forma que se pueda tener n cantidad de archivos y funcione de forma generica "
   ]
  },
  {
   "cell_type": "code",
   "execution_count": 1,
   "id": "5b07fee8",
   "metadata": {},
   "outputs": [],
   "source": [
    "import sys \n",
    "sys.path.append(\"..\")\n",
    "from src.utils.funciones import unir_archivos\n",
    "import csv \n",
    "from src.utils.constantes import DATA_PROCESSED_PATH, DATA_CLEAN_PATH "
   ]
  },
  {
   "cell_type": "markdown",
   "id": "4c192335",
   "metadata": {},
   "source": [
    "Luego de importar la funcion unir_archivos (encontrada en funciones.py), que permite unificar cualq archivo .txt del tipo usu_hogar o usu_individuos, se le pasa por parametro el tipo utilizado"
   ]
  },
  {
   "cell_type": "code",
   "execution_count": 5,
   "id": "6d8ae30f",
   "metadata": {},
   "outputs": [],
   "source": [
    "unir_archivos(\"usu_individual\")"
   ]
  },
  {
   "cell_type": "markdown",
   "id": "b1fe9d25",
   "metadata": {},
   "source": [
    "De esta forma se crea el archivo CSV que unifica todos los demas archivos.txt, sin repetir encabezados "
   ]
  },
  {
   "cell_type": "markdown",
   "id": "83294af4",
   "metadata": {},
   "source": [
    "En esta seccion se cumplira con las siguientes consignas de la seccion A, y se traduciran los datos numericos a datos legibles\n",
    " "
   ]
  },
  {
   "cell_type": "code",
   "execution_count": 14,
   "id": "542b3da8",
   "metadata": {},
   "outputs": [],
   "source": [
    "def ch04_str (lector,fila): \n",
    "    if fila[11] == \"1\": \n",
    "        fila.append(\"masculino\")\n",
    "    else: \n",
    "        fila.append(\"femenino\")"
   ]
  },
  {
   "cell_type": "code",
   "execution_count": null,
   "id": "3fc6b174",
   "metadata": {},
   "outputs": [
    {
     "ename": "UnsupportedOperation",
     "evalue": "not readable",
     "output_type": "error",
     "traceback": [
      "\u001b[31m---------------------------------------------------------------------------\u001b[39m",
      "\u001b[31mUnsupportedOperation\u001b[39m                      Traceback (most recent call last)",
      "\u001b[36mCell\u001b[39m\u001b[36m \u001b[39m\u001b[32mIn[19]\u001b[39m\u001b[32m, line 12\u001b[39m\n\u001b[32m     10\u001b[39m \u001b[38;5;28;01mfor\u001b[39;00m fila \u001b[38;5;129;01min\u001b[39;00m lector: \n\u001b[32m     11\u001b[39m     ch04_str(lector,fila)\n\u001b[32m---> \u001b[39m\u001b[32m12\u001b[39m \u001b[43m\u001b[49m\u001b[38;5;28;43;01mfor\u001b[39;49;00m\u001b[43m \u001b[49m\u001b[43mfila\u001b[49m\u001b[43m \u001b[49m\u001b[38;5;129;43;01min\u001b[39;49;00m\u001b[43m \u001b[49m\u001b[43mf\u001b[49m\u001b[43m:\u001b[49m\u001b[43m \u001b[49m\n\u001b[32m     13\u001b[39m \u001b[43m    \u001b[49m\u001b[38;5;28;43mprint\u001b[39;49m\u001b[43m(\u001b[49m\u001b[43mfila\u001b[49m\u001b[43m)\u001b[49m \n",
      "\u001b[31mUnsupportedOperation\u001b[39m: not readable"
     ]
    }
   ],
   "source": [
    "archivo_clean = DATA_CLEAN_PATH / \"usu_clean_individual.csv\"\n",
    "archivo_processed = DATA_PROCESSED_PATH / \"usu_individual.csv\"\n",
    "archivo_csv = open(archivo_processed, encoding='utf-8')\n",
    "\n",
    "with archivo_clean.open(\"w\") as f:\n",
    "    with archivo_processed.open(\"r\",encoding=\"utf-8\") as p:\n",
    "        lector = csv.reader(p,delimiter=\";\")\n",
    "        encabezado = next(lector) + [\"CH04_str\", \"NIVEL_ED_str\",\"CONDICION_LABORAL\",\"UNIVERSITARIO\"]\n",
    "        escritor = csv.writer(f)\n",
    "        for fila in lector: \n",
    "            ch04_str(lector,fila)\n",
    "        \n",
    "\n",
    "\n",
    "    \n",
    "\n",
    " "
   ]
  }
 ],
 "metadata": {
  "kernelspec": {
   "display_name": "Python 3",
   "language": "python",
   "name": "python3"
  },
  "language_info": {
   "codemirror_mode": {
    "name": "ipython",
    "version": 3
   },
   "file_extension": ".py",
   "mimetype": "text/x-python",
   "name": "python",
   "nbconvert_exporter": "python",
   "pygments_lexer": "ipython3",
   "version": "3.13.2"
  }
 },
 "nbformat": 4,
 "nbformat_minor": 5
}
