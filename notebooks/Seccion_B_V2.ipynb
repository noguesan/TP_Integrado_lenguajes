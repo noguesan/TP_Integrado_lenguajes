{
 "cells": [
  {
   "cell_type": "markdown",
   "id": "249bdcf3",
   "metadata": {},
   "source": [
    "<span style=\"color:red;\"> notar que el final del nombre de los archivos son T324 que significa trimestre 3 anio 2024.</span>"
   ]
  },
  {
   "cell_type": "code",
   "execution_count": 20,
   "id": "34589aba",
   "metadata": {},
   "outputs": [],
   "source": [
    "# Cargar base de datos\n",
    "import os # para obtener la ruta absoluta a la carpeta\n",
    "import sys # Para agregar esa carpeta (../data) al path de búsqueda de módulos de Python.\n",
    "import csv # Se usa para leer archivos .txt que tienen formato CSV\n",
    "\n",
    "# Ubico ruta para buscar archivos\n",
    "sys.path.append(os.path.abspath(\"../data\")) # Modifica la lista de rutas donde busca módulos para importar.\n",
    "\n",
    "# Cargo archivos a mis variables\n",
    "path_file_individual = '../data/usu_individual_modificado_T324.txt'\n",
    "path_file_hogar = '../data/usu_hogar_modificado_T324.txt'\n",
    "\n",
    "# FUNCIONES \n",
    "\n",
    "def leer_datos_con_encabezado(path_archivo):\n",
    "    archivo_csv = open(path_archivo, encoding='utf-8')  # No se cierra acá, lo maneja el que llama\n",
    "    lector = csv.reader(archivo_csv, delimiter=';')\n",
    "    encabezado = next(lector)\n",
    "    return encabezado, lector, archivo_csv   # Devuelve también el archivo para poder cerrarlo luego\n",
    "\n",
    "\n",
    "# Cerrar los datos leidos\n",
    "def cerrar_archivo(archivo):\n",
    "    archivo.close()\n",
    "\n",
    "#Ver imprimir encabezados\n",
    "def mostrar_encabezados(path_archivo):\n",
    "    encabezado, lector, archivo = leer_datos_con_encabezado(path_archivo)\n",
    "    print(\"Encabezados del archivo:\")\n",
    "    for i, columna in enumerate(encabezado):\n",
    "        print(f\"{i}: {columna}\")  # Muestra el índice y el nombre de la columna\n",
    "    archivo.close() # cerrar_archivo(archivo)\n",
    "\n",
    "#Ver imprimir encabezados + x lineas\n",
    "def mostrar_encabezado_y_filas(path_archivo, cantidad_filas):\n",
    "    encabezado, lector, archivo = leer_datos_con_encabezado(path_archivo)\n",
    "\n",
    "    print(\"Encabezado:\")\n",
    "    for i, columna in enumerate(encabezado):\n",
    "        print(f\"{i}: {columna}\")\n",
    "    \n",
    "    print(\"\\nPrimeras filas:\")\n",
    "    for i, fila in enumerate(lector):\n",
    "        if i >= cantidad_filas:\n",
    "            break\n",
    "        print(f\"Fila {i+1}: {fila}\")\n",
    "    \n",
    "    archivo.close() # cerrar_archivo(archivo)"
   ]
  },
  {
   "cell_type": "code",
   "execution_count": 21,
   "id": "1f204a36",
   "metadata": {},
   "outputs": [],
   "source": [
    "# Cargar los datos del archivo individual\n",
    "encabezado_individual, lector_individual, archivo_individual = leer_datos_con_encabezado(path_file_individual)\n",
    "# Convertir lector a lista (esto es necesario porque los generadores se consumen al iterar)\n",
    "filas_individual = list(lector_individual)\n",
    "\n"
   ]
  },
  {
   "cell_type": "code",
   "execution_count": 22,
   "id": "803d7bbf",
   "metadata": {},
   "outputs": [
    {
     "name": "stdout",
     "output_type": "stream",
     "text": [
      "47564\n"
     ]
    }
   ],
   "source": [
    "print(len(filas_individual))  # ¿Te da un número mayor que 0?"
   ]
  },
  {
   "cell_type": "code",
   "execution_count": 23,
   "id": "572942ea",
   "metadata": {},
   "outputs": [
    {
     "name": "stdout",
     "output_type": "stream",
     "text": [
      "Encabezados del archivo:\n",
      "0: CODUSU\n",
      "1: ANO4\n",
      "2: TRIMESTRE\n",
      "3: NRO_HOGAR\n",
      "4: COMPONENTE\n",
      "5: H15\n",
      "6: REGION\n",
      "7: MAS_500\n",
      "8: AGLOMERADO\n",
      "9: PONDERA\n",
      "10: CH03\n",
      "11: CH04\n",
      "12: CH05\n",
      "13: CH06\n",
      "14: CH07\n",
      "15: CH08\n",
      "16: CH09\n",
      "17: CH10\n",
      "18: CH11\n",
      "19: CH12\n",
      "20: CH13\n",
      "21: CH14\n",
      "22: CH15\n",
      "23: CH15_COD\n",
      "24: CH16\n",
      "25: CH16_COD\n",
      "26: NIVEL_ED\n",
      "27: ESTADO\n",
      "28: CAT_OCUP\n",
      "29: CAT_INAC\n",
      "30: IMPUTA\n",
      "31: PP02C1\n",
      "32: PP02C2\n",
      "33: PP02C3\n",
      "34: PP02C4\n",
      "35: PP02C5\n",
      "36: PP02C6\n",
      "37: PP02C7\n",
      "38: PP02C8\n",
      "39: PP02E\n",
      "40: PP02H\n",
      "41: PP02I\n",
      "42: PP03C\n",
      "43: PP03D\n",
      "44: PP3E_TOT\n",
      "45: PP3F_TOT\n",
      "46: PP03G\n",
      "47: PP03H\n",
      "48: PP03I\n",
      "49: PP03J\n",
      "50: INTENSI\n",
      "51: PP04A\n",
      "52: PP04B_COD\n",
      "53: PP04B1\n",
      "54: PP04B2\n",
      "55: PP04B3_MES\n",
      "56: PP04B3_ANO\n",
      "57: PP04B3_DIA\n",
      "58: PP04C\n",
      "59: PP04C99\n",
      "60: PP04D_COD\n",
      "61: PP04G\n",
      "62: PP05B2_MES\n",
      "63: PP05B2_ANO\n",
      "64: PP05B2_DIA\n",
      "65: PP05C_1\n",
      "66: PP05C_2\n",
      "67: PP05C_3\n",
      "68: PP05E\n",
      "69: PP05F\n",
      "70: PP05H\n",
      "71: PP06A\n",
      "72: PP06C\n",
      "73: PP06D\n",
      "74: PP06E\n",
      "75: PP06H\n",
      "76: PP07A\n",
      "77: PP07C\n",
      "78: PP07D\n",
      "79: PP07E\n",
      "80: PP07F1\n",
      "81: PP07F2\n",
      "82: PP07F3\n",
      "83: PP07F4\n",
      "84: PP07F5\n",
      "85: PP07G1\n",
      "86: PP07G2\n",
      "87: PP07G3\n",
      "88: PP07G4\n",
      "89: PP07G_59\n",
      "90: PP07H\n",
      "91: PP07I\n",
      "92: PP07J\n",
      "93: PP07K\n",
      "94: PP08D1\n",
      "95: PP08D4\n",
      "96: PP08F1\n",
      "97: PP08F2\n",
      "98: PP08J1\n",
      "99: PP08J2\n",
      "100: PP08J3\n",
      "101: PP09A\n",
      "102: PP09A_ESP\n",
      "103: PP09B\n",
      "104: PP09C\n",
      "105: PP09C_ESP\n",
      "106: PP10A\n",
      "107: PP10C\n",
      "108: PP10D\n",
      "109: PP10E\n",
      "110: PP11A\n",
      "111: PP11B_COD\n",
      "112: PP11B1\n",
      "113: PP11B2_MES\n",
      "114: PP11B2_ANO\n",
      "115: PP11B2_DIA\n",
      "116: PP11C\n",
      "117: PP11C99\n",
      "118: PP11D_COD\n",
      "119: PP11G_ANO\n",
      "120: PP11G_MES\n",
      "121: PP11G_DIA\n",
      "122: PP11L\n",
      "123: PP11L1\n",
      "124: PP11M\n",
      "125: PP11N\n",
      "126: PP11O\n",
      "127: PP11P\n",
      "128: PP11Q\n",
      "129: PP11R\n",
      "130: PP11S\n",
      "131: PP11T\n",
      "132: P21\n",
      "133: DECOCUR\n",
      "134: IDECOCUR\n",
      "135: RDECOCUR\n",
      "136: GDECOCUR\n",
      "137: PDECOCUR\n",
      "138: ADECOCUR\n",
      "139: PONDIIO\n",
      "140: TOT_P12\n",
      "141: P47T\n",
      "142: DECINDR\n",
      "143: IDECINDR\n",
      "144: RDECINDR\n",
      "145: GDECINDR\n",
      "146: PDECINDR\n",
      "147: ADECINDR\n",
      "148: PONDII\n",
      "149: V2_M\n",
      "150: V3_M\n",
      "151: V4_M\n",
      "152: V5_M\n",
      "153: V8_M\n",
      "154: V9_M\n",
      "155: V10_M\n",
      "156: V11_M\n",
      "157: V12_M\n",
      "158: V18_M\n",
      "159: V19_AM\n",
      "160: V21_M\n",
      "161: T_VI\n",
      "162: ITF\n",
      "163: DECIFR\n",
      "164: IDECIFR\n",
      "165: RDECIFR\n",
      "166: GDECIFR\n",
      "167: PDECIFR\n",
      "168: ADECIFR\n",
      "169: IPCF\n",
      "170: DECCFR\n",
      "171: IDECCFR\n",
      "172: RDECCFR\n",
      "173: GDECCFR\n",
      "174: PDECCFR\n",
      "175: ADECCFR\n",
      "176: PONDIH\n",
      "177: CH04_str\n",
      "178: NIVEL_ED_str\n",
      "179: CONDICION_LABORAL\n",
      "180: UNIVERSITARIO\n"
     ]
    }
   ],
   "source": [
    "# Ver columna data individual\n",
    "mostrar_encabezados(path_file_individual)"
   ]
  },
  {
   "cell_type": "code",
   "execution_count": 24,
   "id": "1fb4a1ec",
   "metadata": {},
   "outputs": [
    {
     "name": "stdout",
     "output_type": "stream",
     "text": [
      "Encabezados del archivo:\n",
      "0: CODUSU\n",
      "1: ANO4\n",
      "2: TRIMESTRE\n",
      "3: NRO_HOGAR\n",
      "4: REALIZADA\n",
      "5: REGION\n",
      "6: MAS_500\n",
      "7: AGLOMERADO\n",
      "8: PONDERA\n",
      "9: IV1\n",
      "10: IV1_ESP\n",
      "11: IV2\n",
      "12: IV3\n",
      "13: IV3_ESP\n",
      "14: IV4\n",
      "15: IV5\n",
      "16: IV6\n",
      "17: IV7\n",
      "18: IV7_ESP\n",
      "19: IV8\n",
      "20: IV9\n",
      "21: IV10\n",
      "22: IV11\n",
      "23: IV12_1\n",
      "24: IV12_2\n",
      "25: IV12_3\n",
      "26: II1\n",
      "27: II2\n",
      "28: II3\n",
      "29: II3_1\n",
      "30: II4_1\n",
      "31: II4_2\n",
      "32: II4_3\n",
      "33: II5\n",
      "34: II5_1\n",
      "35: II6\n",
      "36: II6_1\n",
      "37: II7\n",
      "38: II7_ESP\n",
      "39: II8\n",
      "40: II8_ESP\n",
      "41: II9\n",
      "42: V1\n",
      "43: V2\n",
      "44: V21\n",
      "45: V22\n",
      "46: V3\n",
      "47: V4\n",
      "48: V5\n",
      "49: V6\n",
      "50: V7\n",
      "51: V8\n",
      "52: V9\n",
      "53: V10\n",
      "54: V11\n",
      "55: V12\n",
      "56: V13\n",
      "57: V14\n",
      "58: V15\n",
      "59: V16\n",
      "60: V17\n",
      "61: V18\n",
      "62: V19_A\n",
      "63: V19_B\n",
      "64: IX_TOT\n",
      "65: IX_MEN10\n",
      "66: IX_MAYEQ10\n",
      "67: ITF\n",
      "68: DECIFR\n",
      "69: IDECIFR\n",
      "70: RDECIFR\n",
      "71: GDECIFR\n",
      "72: PDECIFR\n",
      "73: ADECIFR\n",
      "74: IPCF\n",
      "75: DECCFR\n",
      "76: IDECCFR\n",
      "77: RDECCFR\n",
      "78: GDECCFR\n",
      "79: PDECCFR\n",
      "80: ADECCFR\n",
      "81: PONDIH\n",
      "82: VII1_1\n",
      "83: VII1_2\n",
      "84: VII2_1\n",
      "85: VII2_2\n",
      "86: VII2_3\n",
      "87: VII2_4\n",
      "88: TIPO_HOGAR\n",
      "89: MATERIAL_TECHUMBRE\n",
      "90: DENSIDAD_HOGAR\n",
      "91: CONDICION_DE_HABITABILIDAD\n"
     ]
    }
   ],
   "source": [
    "# ver columna data hogar\n",
    "mostrar_encabezados(path_file_hogar)"
   ]
  },
  {
   "cell_type": "markdown",
   "id": "fda622ea",
   "metadata": {},
   "source": [
    "1- A partir de la información de cada año contenida en el dataset se debe informar, año tras año, el porcentaje de personas mayores a 6 años capaces e incapaces de leer y escribir.\n",
    "Importante: tomar la información del último trimestre de cada año."
   ]
  },
  {
   "cell_type": "markdown",
   "id": "4e7afc54",
   "metadata": {},
   "source": [
    "### Tabla individual  \n",
    "1- ANO4 N (4) Año de relevamiento (4 dígitos)\n",
    "\n",
    "2- TRIMESTRE N (1) Ventana de observación  \n",
    "- = 1° trimestre  \n",
    "- = 2° trimestre  \n",
    "- = 3° trimestre  \n",
    "- = 4° trimestre  \n",
    "\n",
    "9- PONDERA N (6) Ponderación  \n",
    "\n",
    "12- CH05 date Fecha de nacimiento\n",
    "(día, mes y año) --> ver como esta dado el dato\n",
    "\n",
    "13- CH06 N (2) ¿Cuántos años cumplidos tiene?\n",
    "\n",
    "16- CH09 N (1) ¿Sabe leer y escribir?\n",
    "1 = Sí\n",
    "2 = No\n",
    "3 = Menor de 2 años\n",
    "\n",
    "________________________________________________________\n",
    "Columnas usadas: 2 - 1 - 9 - 13 - 16\n"
   ]
  },
  {
   "cell_type": "code",
   "execution_count": 25,
   "id": "249ca0ff",
   "metadata": {},
   "outputs": [
    {
     "name": "stdout",
     "output_type": "stream",
     "text": [
      "Año 2024: 99.12% saben leer y escribir, 0.86% no saben.\n"
     ]
    }
   ],
   "source": [
    "def filtrar_trimestre(filas, col_trim=2, trimestre = '3'):\n",
    "    \"\"\"Filtra las filas correspondientes al trimestre pasado por parametro como string (valor defecto '4')\"\"\"\n",
    "    return [fila for fila in filas if fila[col_trim] == trimestre]\n",
    "\n",
    "def agrupar_por_anio(filas, col_anio=1):\n",
    "    \"\"\"Agrupa las filas por año (usando índice de columna)\"\"\"\n",
    "    grupos = {}\n",
    "    for fila in filas:\n",
    "        anio = fila[col_anio]\n",
    "        if anio not in grupos:\n",
    "            grupos[anio] = []\n",
    "        grupos[anio].append(fila)\n",
    "    return grupos\n",
    "\n",
    "def suma_ponderada(filas, condicion, col_pondera=9):\n",
    "    \"\"\"Suma ponderada de las filas que cumplen cierta condición\"\"\"\n",
    "    return sum(float(f[col_pondera]) for f in filas if condicion(f))\n",
    "\n",
    "\n",
    "def analizar_alfabetismo_por_anio(filas, col_anio=1, col_trim=2, col_pondera=9, col_edad=13, col_lee=16):\n",
    "    \"\"\"Analiza el alfabetismo por año considerando personas mayores de 6 años\"\"\"\n",
    "    filas_filtradas = filtrar_trimestre(filas, col_trim)\n",
    "    datos_por_anio = agrupar_por_anio(filas_filtradas, col_anio)\n",
    "\n",
    "    for anio, filas_anio in datos_por_anio.items():\n",
    "        total_mayores_6 = suma_ponderada(filas_anio, lambda f: int(f[col_edad]) > 6, col_pondera)\n",
    "        saben_leer = suma_ponderada(filas_anio, lambda f: int(f[col_edad]) > 6 and f[col_lee] == '1', col_pondera)\n",
    "        no_saben_leer = suma_ponderada(filas_anio, lambda f: int(f[col_edad]) > 6 and f[col_lee] == '2', col_pondera)\n",
    "\n",
    "        porcentaje_si = (saben_leer / total_mayores_6) * 100\n",
    "        porcentaje_no = (no_saben_leer / total_mayores_6) * 100\n",
    "\n",
    "        print(f\"Año {anio}: {porcentaje_si:.2f}% saben leer y escribir, {porcentaje_no:.2f}% no saben.\")\n",
    "\n",
    " \n",
    "# Ejecutar análisis de alfabetismo por año (para mayores de 6 años)\n",
    "analizar_alfabetismo_por_anio(filas_individual)\n",
    "# analizar_alfabetismo_por_anio(filas_modificadas)"
   ]
  },
  {
   "cell_type": "markdown",
   "id": "f25ffd45",
   "metadata": {},
   "source": [
    "<span style=\"color:red;\"> el aviso \"Importante: tomar la información del último trimestre de cada año.\" Es solo para el punto 1 o para todos?.</span>"
   ]
  },
  {
   "cell_type": "markdown",
   "id": "eea491dd",
   "metadata": {},
   "source": [
    "2. A partir de un año y trimestre elegido por el usuario informar el porcentaje de personas no nacidas en Argentina que hayan cursado un nivel universitario o superior."
   ]
  },
  {
   "cell_type": "markdown",
   "id": "4b75ec33",
   "metadata": {},
   "source": [
    "#### Tabla individual  \n",
    "1- ANO4 N (4) Año de relevamiento (4 dígitos)\n",
    "\n",
    "2- TRIMESTRE N (1) Ventana de observación  \n",
    "- = 1° trimestre  \n",
    "- = 2° trimestre  \n",
    "- = 3° trimestre  \n",
    "- = 4° trimestre  \n",
    "\n",
    "9- PONDERA N (6) Ponderación  \n",
    "\n",
    "19- CH12 N (2) ¿Cuál es el nivel más alto que cursa o cursó?\n",
    "- 1 = Jardín/preescolar\n",
    "- 2 = Primario\n",
    "- 3 = EGB\n",
    "- 4 = Secundario\n",
    "- 5 = Polimodal\n",
    "- 6 = Terciario\n",
    "- 7 = Universitario\n",
    "- 8 = Posgrado universitario\n",
    "- 9 = Educación especial (discapacitado)\n",
    "\n",
    "22- CH15 N (1) ¿Dónde nació?\n",
    "1. En esta localidad\n",
    "2. En otra localidad de esta provincia\n",
    "3. En otra provincia (especificar)\n",
    "4. En un país limítrofe (especificar: Brasil, Bolivia, Chile, Paraguay, Uruguay)\n",
    "5. En otro país (especificar)\n",
    "9. Ns/Nr\n",
    "\n",
    "26- NIVEL_ED N (1) Nivel educativo\n",
    "- 1 = Primario incompleto (incluye educación especial)\n",
    "- 2 = Primario completo\n",
    "- 3 = Secundario incompleto\n",
    "- 4 = Secundario completo\n",
    "- 5 = Superior universitario incompleto\n",
    "- 6 = Superior universitario completo\n",
    "- 7 = Sin instrucción\n",
    "- 9 = Ns/Nr\n",
    "\n",
    "______________________________\n",
    "Columnas usadas: 1 - 2 - 9 - 19 - 22"
   ]
  },
  {
   "cell_type": "markdown",
   "id": "f7ef541d",
   "metadata": {},
   "source": [
    "<span style=\"color:red;\"> \n",
    "creo que para esta consulta deberia considerarse tambien una edad minima   \n",
    "\n",
    "el procentaje que me pide es respecto a la poblacion total de argentina o respecto a la poblacion total de no nacidos en argentina (hice el porcentaje respecto al total de no nacidos en argentina)\n",
    "</span>"
   ]
  },
  {
   "cell_type": "code",
   "execution_count": 26,
   "id": "5a6e21f4",
   "metadata": {},
   "outputs": [],
   "source": [
    "def filtrar_anio(filas, col_anio=1, anio = '2024'):\n",
    "    \"\"\"Filtra las filas correspondientes al anio pasado por parametro como string (valor defecto '2021')\"\"\"\n",
    "    return [fila for fila in filas if fila[col_anio] == anio]\n",
    "\n",
    "def es_extranjero(valor_ch15):\n",
    "    \"\"\"Devuelve True si la persona nació fuera de Argentina\"\"\"\n",
    "    return valor_ch15 in ['4', '5']\n",
    "\n",
    "def es_universitario(valor_ch12):\n",
    "    \"\"\"Devuelve True si la persona cursó/cursa universidad o posgrado\"\"\"\n",
    "    return valor_ch12 in ['7', '8']"
   ]
  },
  {
   "cell_type": "code",
   "execution_count": 27,
   "id": "42390324",
   "metadata": {},
   "outputs": [],
   "source": [
    "def analizar_universitarios_extranjeros(filas, anio='2024', trimestre= '3'):\n",
    "    \"\"\"Calcula el porcentaje de personas no nacidas en Argentina con nivel universitario o superior respecto del nivel de personas extranjeras\"\"\"\n",
    "    \n",
    "    # Filtros\n",
    "    filas_anio = filtrar_anio(filas, anio=anio)\n",
    "    filas_trim = filtrar_trimestre(filas_anio, trimestre=trimestre)\n",
    "    \n",
    "    # Contadores\n",
    "    total_ponderado_extranjeros = 0\n",
    "    total_ponderado_universitarios_extranjeros = 0\n",
    "\n",
    "    # Cargo contadores\n",
    "    for fila in filas_trim:\n",
    "        ch15 = fila[22]  # lugar de nacimiento\n",
    "        ch12 = fila[19]  # nivel educativo\n",
    "        pondera = int(fila[3])  # ponderación\n",
    "\n",
    "        if es_extranjero(ch15):\n",
    "            total_ponderado_extranjeros += pondera\n",
    "            if es_universitario(ch12):\n",
    "                total_ponderado_universitarios_extranjeros += pondera\n",
    "\n",
    "    porcentaje = (total_ponderado_universitarios_extranjeros / total_ponderado_extranjeros) * 100\n",
    "    \n",
    "    return round(porcentaje, 2)"
   ]
  },
  {
   "cell_type": "markdown",
   "id": "1552b7bc",
   "metadata": {},
   "source": [
    "<span style=\"color:red;\"> \n",
    "en las preguntas que pide seleccionar algun dato ejemplo algun aglomerado. esta seleccion se hace por afuera de la funcion con un input y despues se ingresa a la funcion con esta valor de parametro o pongo el input directamente adentro de la funcion   \n",
    "\n",
    "por ejemplo en la pregunta 9 \"Pedir al usuario que seleccione un aglomerado y a partir de la información contenida retornar una tabla que contenga la cantidad de personas mayores de edad según su nivel de estudios alcanzados.\"\n",
    "\n",
    "Lo mejor es que el input() esté afuera de la función.  Esto te permite que la función sea reutilizable, testeable, y más limpia.\n",
    "</span>"
   ]
  },
  {
   "cell_type": "code",
   "execution_count": 28,
   "id": "9a612ae8",
   "metadata": {},
   "outputs": [
    {
     "name": "stdout",
     "output_type": "stream",
     "text": [
      "Porcentaje de personas no nacidas en Argentina que hayan cursado un nivel universitario o superior: 20.0%.\n"
     ]
    }
   ],
   "source": [
    "print(f\"Porcentaje de personas no nacidas en Argentina que hayan cursado un nivel universitario o superior: {analizar_universitarios_extranjeros(filas_individual, anio = '2024', trimestre = '3')}%.\")"
   ]
  },
  {
   "cell_type": "markdown",
   "id": "0d5f3715",
   "metadata": {},
   "source": [
    "3. A partir de la información contenida en el dataset informar el año y trimestre donde hubo menor desocupación."
   ]
  },
  {
   "cell_type": "markdown",
   "id": "5daf55cd",
   "metadata": {},
   "source": [
    "#### Tabla individual  \n",
    "1- ANO4 N (4) Año de relevamiento (4 dígitos)\n",
    "\n",
    "2- TRIMESTRE N (1) Ventana de observación  \n",
    "- = 1° trimestre  \n",
    "- = 2° trimestre  \n",
    "- = 3° trimestre  \n",
    "- = 4° trimestre  \n",
    "\n",
    "9- PONDERA N (6) Ponderación  \n",
    "\n",
    "27- ESTADO N (1) Condición de actividad\n",
    "- 0 = Entrevista individual no realizada (no respuesta al cuestionario individual)\n",
    "- 1 = Ocupado\n",
    "- 2 = Desocupado\n",
    "- 3 = Inactivo\n",
    "- 4 = Menor de 10 años\n",
    "______________________________\n",
    "Columnas usadas: 1 - 2 - 9 - 27\n"
   ]
  },
  {
   "cell_type": "markdown",
   "id": "445413ce",
   "metadata": {},
   "source": [
    "Criterio usado:  \n",
    "Poblacion en condiciones de trabajar: aproximadamente entre 18 y 65 años varia dependiendo del sexo.  \n",
    "Población Activa: incluye población ocupada y desempleados (desocupados, personas que no tienen trabajo aunque lo buscan activamente).  \n",
    "Población Inactiva: gente que no tiene trabajo pero tampoco lo busca.  \n",
    "\n",
    "Para el ejercicio se cosiderara:  \n",
    "Población activa = Ocupados + Desocupados  \n",
    "Tasa de paro o desempleo = (Población desocupada / Población activa) x 100"
   ]
  },
  {
   "cell_type": "markdown",
   "id": "9d994316",
   "metadata": {},
   "source": [
    "necestio crear un diccionario que tenga la clave anio, trimestre y tasa de desempleo. De todos los datos me busque el que tiene el menor valor en tasa de desempleo y me devuelva sus datos de anio, trimestre y tasa de desempleo "
   ]
  },
  {
   "cell_type": "code",
   "execution_count": 30,
   "id": "4b972922",
   "metadata": {},
   "outputs": [
    {
     "name": "stdout",
     "output_type": "stream",
     "text": [
      "Menor tasa de desempleo: 6.92% en año 2024, trimestre 3\n"
     ]
    },
    {
     "data": {
      "text/plain": [
       "('2024', '3', 6.92)"
      ]
     },
     "execution_count": 30,
     "metadata": {},
     "output_type": "execute_result"
    }
   ],
   "source": [
    "def calcular_tasa_desempleo(filas, col_anio=1, col_trim=2, col_pondera=9, col_estado=27):\n",
    "    \"\"\"\n",
    "    Calcula la tasa de desempleo por año y trimestre, y devuelve el año y trimestre con menor tasa.\n",
    "    \"\"\"\n",
    "    tasas = {} # Para agrupar por anio y trimestre\n",
    "\n",
    "    for fila in filas: # Recorrer todas las filas del dataset\n",
    "        anio = fila[col_anio]\n",
    "        trimestre = fila[col_trim]\n",
    "        estado = fila[col_estado]\n",
    "        pondera = float(fila[col_pondera])\n",
    "\n",
    "        clave = (anio, trimestre)\n",
    "\n",
    "        if clave not in tasas: # reviso si tengo una clave ya generada con esos valroes\n",
    "            tasas[clave] = {'desocupados': 0.0, 'activos': 0.0}\n",
    "\n",
    "        if estado == '1':  # Ocupado\n",
    "            tasas[clave]['activos'] += pondera\n",
    "        elif estado == '2':  # Desocupado\n",
    "            tasas[clave]['desocupados'] += pondera\n",
    "            tasas[clave]['activos'] += pondera  # También cuenta como población activa\n",
    "\n",
    "    # Calcular tasa de desempleo y encontrar el mínimo\n",
    "    tasas_calculadas = {}\n",
    "    for clave, valores in tasas.items():\n",
    "        if valores['activos'] > 0:\n",
    "            tasa = (valores['desocupados'] / valores['activos']) * 100\n",
    "            tasas_calculadas[clave] = tasa\n",
    "\n",
    "    # Buscar la clave con la menor tasa de desempleo\n",
    "    menor_clave = min(tasas_calculadas, key=tasas_calculadas.get)\n",
    "    menor_tasa = tasas_calculadas[menor_clave]\n",
    "\n",
    "    print(f\"Menor tasa de desempleo: {menor_tasa:.2f}% en año {menor_clave[0]}, trimestre {menor_clave[1]}\")\n",
    "    return menor_clave[0], menor_clave[1], round(menor_tasa, 2)\n",
    "\n",
    "calcular_tasa_desempleo(filas_individual, col_anio=1, col_trim=2, col_pondera=9, col_estado=27)"
   ]
  },
  {
   "cell_type": "markdown",
   "id": "2433d359",
   "metadata": {},
   "source": [
    "<span style=\"color:red;\"> \n",
    "chequear como funciona con varios anios distintos y trimestres\n",
    "</span>"
   ]
  },
  {
   "cell_type": "markdown",
   "id": "9be457ce",
   "metadata": {},
   "source": [
    "4- Ranking de los 5 aglomerados con mayor porcentaje de hogares con dos o más ocupantes con estudios universitarios o superiores finalizados. Información obtenida a partir del par de archivos más recientes."
   ]
  },
  {
   "cell_type": "markdown",
   "id": "0664ef77",
   "metadata": {},
   "source": [
    "<span style=\"color:red;\"> \n",
    "como seria es oso de \"Información obtenida a partir del par de archivos más recientes.\"\n",
    "</span>"
   ]
  },
  {
   "cell_type": "markdown",
   "id": "ccbd7807",
   "metadata": {},
   "source": [
    "#### Tabla individual  \n",
    "CODUSU C (29) Código para distinguir VIVIENDAS,\n",
    "permite aparearlas con Hogares\n",
    "y Personas. Además permite hacer el\n",
    "seguimiento a través de\n",
    "los trimestres.\n",
    "\n",
    "NRO_HOGAR N (1) Código para distinguir Hogares, permite\n",
    "aparearlos con Personas.\n",
    "\n",
    "COMPONENTE N (2) Número de componente: número de\n",
    "orden que se asigna a las personas que\n",
    "conforman cada hogar de la vivienda.\n",
    "Casos especiales:\n",
    "51 = Servicio doméstico en hogares\n",
    "71 = Pensionistas en hogares\n",
    "\n",
    "\n",
    "\n",
    "\n",
    "\n",
    "\n",
    "1- ANO4 N (4) Año de relevamiento (4 dígitos)\n",
    "\n",
    "2- TRIMESTRE N (1) Ventana de observación  \n",
    "- = 1° trimestre  \n",
    "- = 2° trimestre  \n",
    "- = 3° trimestre  \n",
    "- = 4° trimestre  \n",
    "\n",
    "9- PONDERA N (6) Ponderación  \n",
    "\n",
    "\n",
    "27- ESTADO N (1) Condición de actividad\n",
    "- 0 = Entrevista individual no realizada (no respuesta al cuestionario individual)\n",
    "- 1 = Ocupado\n",
    "- 2 = Desocupado\n",
    "- 3 = Inactivo\n",
    "- 4 = Menor de 10 años\n",
    "\n",
    "#### Tabla hogares\n",
    "CODUSU C (29) Código para distinguir viviendas,\n",
    "permite aparearlas con Hogares y\n",
    "Personas. Además permite hacer el\n",
    "seguimiento a través de los trimestres\n",
    "\n",
    "\n",
    "______________________________\n",
    "Columnas usadas: 1 - 2 - 9 - 27"
   ]
  },
  {
   "cell_type": "markdown",
   "id": "534850e3",
   "metadata": {},
   "source": [
    "<span style=\"color:red;\"> \n",
    "Para que cumpla la condición tiene que tener 2 valores con CODUSU, NRO_HOGAR  iguales, NIEVEL_ED Universitario completo y Componentes distintos. Si se cumple todo eso sumar la cantidad pondera del que tenga valor mas bajo entre las filas que coincidan todos esos datos?\n",
    "</span>\n"
   ]
  },
  {
   "cell_type": "code",
   "execution_count": null,
   "id": "32e90780",
   "metadata": {},
   "outputs": [],
   "source": []
  },
  {
   "cell_type": "markdown",
   "id": "3db77858",
   "metadata": {},
   "source": [
    "5. Informar para cada aglomerado el porcentaje de viviendas ocupadas por sus\n",
    "propietarios."
   ]
  },
  {
   "cell_type": "code",
   "execution_count": null,
   "id": "0cba729c",
   "metadata": {},
   "outputs": [],
   "source": []
  },
  {
   "cell_type": "markdown",
   "id": "ededa489",
   "metadata": {},
   "source": [
    "6. Informar el aglomerado con mayor cantidad de viviendas con más de dos ocupantes\n",
    "y sin baño. Informar también la cantidad de ellas.\n"
   ]
  },
  {
   "cell_type": "code",
   "execution_count": null,
   "id": "f4d51bab",
   "metadata": {},
   "outputs": [],
   "source": []
  },
  {
   "cell_type": "markdown",
   "id": "1eeeb939",
   "metadata": {},
   "source": [
    "7. Informar para cada aglomerado el porcentaje de personas que hayan cursado al\n",
    "menos en nivel universitario o superior.\n"
   ]
  },
  {
   "cell_type": "code",
   "execution_count": null,
   "id": "fe98e982",
   "metadata": {},
   "outputs": [],
   "source": []
  },
  {
   "cell_type": "markdown",
   "id": "0aa12ded",
   "metadata": {},
   "source": [
    "8. Informar las regiones en orden descendente según el porcentaje de inquilinos de\n",
    "cada una"
   ]
  },
  {
   "cell_type": "code",
   "execution_count": null,
   "id": "4d3fc12b",
   "metadata": {},
   "outputs": [],
   "source": []
  },
  {
   "cell_type": "markdown",
   "id": "550ec68c",
   "metadata": {},
   "source": [
    "9. Pedir al usuario que seleccione un aglomerado y a partir de la información contenida\n",
    "retornar una tabla que contenga la cantidad de personas mayores de edad según su\n",
    "nivel de estudios alcanzados\n",
    "\n",
    "A modo de ejemplo:"
   ]
  },
  {
   "cell_type": "markdown",
   "id": "66986f96",
   "metadata": {},
   "source": [
    "Nombre de Aglomerado\n",
    "\n",
    "\n"
   ]
  },
  {
   "cell_type": "code",
   "execution_count": null,
   "id": "1ca0bcd7",
   "metadata": {},
   "outputs": [],
   "source": []
  },
  {
   "cell_type": "markdown",
   "id": "8506f6fa",
   "metadata": {},
   "source": [
    "10. Pedir al usuario que seleccione dos aglomerados y a partir de la información\n",
    "contenida retornar una tabla que contenga el porcentaje de personas mayores de\n",
    "edad con secundario incompleto.\n"
   ]
  },
  {
   "cell_type": "code",
   "execution_count": null,
   "id": "5cb30430",
   "metadata": {},
   "outputs": [],
   "source": []
  },
  {
   "cell_type": "markdown",
   "id": "9af6a773",
   "metadata": {},
   "source": [
    "11. Pedir al usuario que seleccione un año, y busque en el último trimestre almacenado\n",
    "del mencionado año, el aglomerado con mayor porcentaje de viviendas de “Material\n",
    "precario” y el aglomerado con menor porcentaje de viviendas de “Material precario”."
   ]
  },
  {
   "cell_type": "code",
   "execution_count": null,
   "id": "53f7bb3e",
   "metadata": {},
   "outputs": [],
   "source": []
  },
  {
   "cell_type": "markdown",
   "id": "90813e21",
   "metadata": {},
   "source": [
    "12. A partir de la información del último trimestre almacenado en el sistema se debe\n",
    "retornar para cada aglomerado el porcentaje de jubilados que vivan en una vivienda\n",
    "con CONDICION_DE_HABITABILIDAD insuficiente"
   ]
  },
  {
   "cell_type": "code",
   "execution_count": null,
   "id": "cf70e5d6",
   "metadata": {},
   "outputs": [],
   "source": []
  },
  {
   "cell_type": "markdown",
   "id": "eaeaf809",
   "metadata": {},
   "source": [
    "13. Solicitar un año al usuario y a partir de la información del último trimestre de dicho\n",
    "ejercicio informar la cantidad de personas que hayan cursado nivel universitario o\n",
    "superior y que vivan en una vivienda con CONDICION_DE_HABITABILIDAD\n",
    "insuficiente"
   ]
  },
  {
   "cell_type": "code",
   "execution_count": null,
   "id": "466bf58e",
   "metadata": {},
   "outputs": [],
   "source": []
  }
 ],
 "metadata": {
  "kernelspec": {
   "display_name": "Python 3",
   "language": "python",
   "name": "python3"
  },
  "language_info": {
   "codemirror_mode": {
    "name": "ipython",
    "version": 3
   },
   "file_extension": ".py",
   "mimetype": "text/x-python",
   "name": "python",
   "nbconvert_exporter": "python",
   "pygments_lexer": "ipython3",
   "version": "3.12.9"
  }
 },
 "nbformat": 4,
 "nbformat_minor": 5
}
